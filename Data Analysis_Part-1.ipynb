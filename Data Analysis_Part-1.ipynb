{
 "cells": [
  {
   "cell_type": "markdown",
   "id": "cd8344f7",
   "metadata": {},
   "source": [
    "### Problem Statement\n",
    "\n",
    "The Vehicle Insurance business is a multi-billion dollar industry. Every year millions and millions of premiums are paid, and a huge amount of claims also pile up. \n",
    "You have to step into the shoes of a data scientist who is building models to help an insurance company understand which claims are worth rejecting and the claims which should be accepted for reimbursement. \n",
    "You are given a rich dataset consisting of thousands of rows of past records, which you can use to learn more about your customers’ behaviours. For example, you are supposed to create an ML model to look at a case of an insurance claim and decide whether to reject or accept it. \n",
    "Dimensions: (to be added later)\n",
    "\n",
    "Columns: ['ID', 'AGE', 'GENDER', 'DRIVING_EXPERIENCE', 'EDUCATION', 'INCOME',\n",
    "                   'CREDIT_SCORE', 'VEHICLE_OWNERSHIP', 'VEHICLE_YEAR', 'MARRIED',\n",
    "                  'CHILDREN', 'POSTAL_CODE', 'ANNUAL_MILEAGE', 'SPEEDING_VIOLATIONS',\n",
    "                  'DUIS', 'PAST_ACCIDENTS', 'OUTCOME', 'TYPE_OF_VEHICLE']\n",
    "                  \n",
    " Learn and predict the OUTCOME variable.\n",
    " \n",
    "**In the outcome column 0 means, the insurance claim has to be rejected and 1 means the insurance claim has to be accepted.**"
   ]
  },
  {
   "cell_type": "markdown",
   "id": "a1b626c4",
   "metadata": {},
   "source": [
    "In this Notebook we performing various form of Data Analysis process, we are going to be treating 4 major steps in data analysis for the solution to the problem.\n",
    "\n",
    "Descriptive Analysis - This will involve charts and numbers to tell what is happening with our data records.\n",
    "\n",
    "Diagonistics Analysis - This will involve correlation and stastical inference to find relationships among variables in the dataset.\n",
    "\n",
    "Predictive Analysis - This involve using machine learning to make predictions for future terms.\n",
    "\n",
    "Prescriptive Analysis - This will help to make decisions from our predictive model to solve the business problems."
   ]
  },
  {
   "cell_type": "code",
   "execution_count": 3,
   "id": "cd953375",
   "metadata": {},
   "outputs": [],
   "source": [
    "import pandas as pd\n",
    "import numpy as np\n",
    "import seaborn as sns\n",
    "import matplotlib.pyplot as plt\n",
    "%matplotlib inline\n",
    "\n",
    "## For statistical test\n",
    "from scipy.stats import chisquare, chi2_contingency ## Stastical test\n",
    "from scipy.stats import probplot\n",
    "from scipy import stats\n",
    "from sklearn.feature_selection import SelectKBest\n",
    "from sklearn.feature_selection import chi2"
   ]
  },
  {
   "cell_type": "code",
   "execution_count": 4,
   "id": "f9f22199",
   "metadata": {},
   "outputs": [],
   "source": [
    "# For Plot Annotation\n",
    "\n",
    "def without_hue(plot, feature):\n",
    "    total = len(feature)\n",
    "    for p in ax.patches:\n",
    "        percentage = '{:.1f}%'.format(100 * p.get_height()/total)\n",
    "        x = p.get_x() + p.get_width() / 2 - 0.05\n",
    "        y = p.get_y() + p.get_height()\n",
    "        ax.annotate(percentage, (x, y), size = 12)\n",
    "    plt.show()\n",
    "    \n",
    "def with_hue(plot, feature, Number_of_categories, hue_categories):\n",
    "    a = [p.get_height() for p in plot.patches]\n",
    "    patch = [p for p in plot.patches]\n",
    "    for i in range(Number_of_categories):\n",
    "        total = feature.value_counts().values[i]\n",
    "        for j in range(hue_categories):\n",
    "            percentage = '{:.1f}%'.format(100 * a[(j*Number_of_categories + i)]/total)\n",
    "            x = patch[(j*Number_of_categories + i)].get_x() + patch[(j*Number_of_categories + i)].get_width() / 2 - 0.15\n",
    "            y = patch[(j*Number_of_categories + i)].get_y() + patch[(j*Number_of_categories + i)].get_height() \n",
    "            ax.annotate(percentage, (x, y), size = 12)\n",
    "    plt.show()"
   ]
  },
  {
   "cell_type": "code",
   "execution_count": 5,
   "id": "a6b77837",
   "metadata": {},
   "outputs": [],
   "source": [
    "train = pd.read_csv('train.csv')\n",
    "test = pd.read_csv('test.csv')\n",
    "sub = pd.read_csv('submission.csv')"
   ]
  },
  {
   "cell_type": "code",
   "execution_count": 6,
   "id": "cb851967",
   "metadata": {},
   "outputs": [
    {
     "data": {
      "text/html": [
       "<div>\n",
       "<style scoped>\n",
       "    .dataframe tbody tr th:only-of-type {\n",
       "        vertical-align: middle;\n",
       "    }\n",
       "\n",
       "    .dataframe tbody tr th {\n",
       "        vertical-align: top;\n",
       "    }\n",
       "\n",
       "    .dataframe thead th {\n",
       "        text-align: right;\n",
       "    }\n",
       "</style>\n",
       "<table border=\"1\" class=\"dataframe\">\n",
       "  <thead>\n",
       "    <tr style=\"text-align: right;\">\n",
       "      <th></th>\n",
       "      <th>ID</th>\n",
       "      <th>AGE</th>\n",
       "      <th>GENDER</th>\n",
       "      <th>DRIVING_EXPERIENCE</th>\n",
       "      <th>EDUCATION</th>\n",
       "      <th>INCOME</th>\n",
       "      <th>CREDIT_SCORE</th>\n",
       "      <th>VEHICLE_OWNERSHIP</th>\n",
       "      <th>VEHICLE_YEAR</th>\n",
       "      <th>MARRIED</th>\n",
       "      <th>CHILDREN</th>\n",
       "      <th>POSTAL_CODE</th>\n",
       "      <th>ANNUAL_MILEAGE</th>\n",
       "      <th>SPEEDING_VIOLATIONS</th>\n",
       "      <th>DUIS</th>\n",
       "      <th>PAST_ACCIDENTS</th>\n",
       "      <th>OUTCOME</th>\n",
       "      <th>TYPE_OF_VEHICLE</th>\n",
       "    </tr>\n",
       "  </thead>\n",
       "  <tbody>\n",
       "    <tr>\n",
       "      <th>0</th>\n",
       "      <td>816393</td>\n",
       "      <td>40-64</td>\n",
       "      <td>female</td>\n",
       "      <td>20-29y</td>\n",
       "      <td>university</td>\n",
       "      <td>middle class</td>\n",
       "      <td>0.638050</td>\n",
       "      <td>0.0</td>\n",
       "      <td>after 2015</td>\n",
       "      <td>0.0</td>\n",
       "      <td>0.0</td>\n",
       "      <td>37379</td>\n",
       "      <td>11000.0</td>\n",
       "      <td>0</td>\n",
       "      <td>0</td>\n",
       "      <td>0</td>\n",
       "      <td>0.0</td>\n",
       "      <td>Sports Car</td>\n",
       "    </tr>\n",
       "    <tr>\n",
       "      <th>1</th>\n",
       "      <td>251762</td>\n",
       "      <td>26-39</td>\n",
       "      <td>male</td>\n",
       "      <td>20-29y</td>\n",
       "      <td>high school</td>\n",
       "      <td>middle class</td>\n",
       "      <td>0.475741</td>\n",
       "      <td>1.0</td>\n",
       "      <td>before 2015</td>\n",
       "      <td>1.0</td>\n",
       "      <td>0.0</td>\n",
       "      <td>10238</td>\n",
       "      <td>9000.0</td>\n",
       "      <td>0</td>\n",
       "      <td>0</td>\n",
       "      <td>0</td>\n",
       "      <td>1.0</td>\n",
       "      <td>HatchBack</td>\n",
       "    </tr>\n",
       "    <tr>\n",
       "      <th>2</th>\n",
       "      <td>481952</td>\n",
       "      <td>40-64</td>\n",
       "      <td>male</td>\n",
       "      <td>20-29y</td>\n",
       "      <td>none</td>\n",
       "      <td>middle class</td>\n",
       "      <td>0.839817</td>\n",
       "      <td>1.0</td>\n",
       "      <td>before 2015</td>\n",
       "      <td>1.0</td>\n",
       "      <td>1.0</td>\n",
       "      <td>10238</td>\n",
       "      <td>12000.0</td>\n",
       "      <td>0</td>\n",
       "      <td>0</td>\n",
       "      <td>0</td>\n",
       "      <td>1.0</td>\n",
       "      <td>Sedan</td>\n",
       "    </tr>\n",
       "    <tr>\n",
       "      <th>3</th>\n",
       "      <td>3506</td>\n",
       "      <td>40-64</td>\n",
       "      <td>male</td>\n",
       "      <td>20-29y</td>\n",
       "      <td>high school</td>\n",
       "      <td>upper class</td>\n",
       "      <td>0.682527</td>\n",
       "      <td>1.0</td>\n",
       "      <td>before 2015</td>\n",
       "      <td>0.0</td>\n",
       "      <td>1.0</td>\n",
       "      <td>92099</td>\n",
       "      <td>6000.0</td>\n",
       "      <td>1</td>\n",
       "      <td>0</td>\n",
       "      <td>0</td>\n",
       "      <td>1.0</td>\n",
       "      <td>Sedan</td>\n",
       "    </tr>\n",
       "    <tr>\n",
       "      <th>4</th>\n",
       "      <td>498013</td>\n",
       "      <td>40-64</td>\n",
       "      <td>female</td>\n",
       "      <td>20-29y</td>\n",
       "      <td>none</td>\n",
       "      <td>working class</td>\n",
       "      <td>0.572184</td>\n",
       "      <td>1.0</td>\n",
       "      <td>after 2015</td>\n",
       "      <td>1.0</td>\n",
       "      <td>1.0</td>\n",
       "      <td>32122</td>\n",
       "      <td>15000.0</td>\n",
       "      <td>0</td>\n",
       "      <td>0</td>\n",
       "      <td>1</td>\n",
       "      <td>0.0</td>\n",
       "      <td>Sedan</td>\n",
       "    </tr>\n",
       "  </tbody>\n",
       "</table>\n",
       "</div>"
      ],
      "text/plain": [
       "       ID    AGE  GENDER DRIVING_EXPERIENCE    EDUCATION         INCOME  \\\n",
       "0  816393  40-64  female             20-29y   university   middle class   \n",
       "1  251762  26-39    male             20-29y  high school   middle class   \n",
       "2  481952  40-64    male             20-29y         none   middle class   \n",
       "3    3506  40-64    male             20-29y  high school    upper class   \n",
       "4  498013  40-64  female             20-29y         none  working class   \n",
       "\n",
       "   CREDIT_SCORE  VEHICLE_OWNERSHIP VEHICLE_YEAR  MARRIED  CHILDREN  \\\n",
       "0      0.638050                0.0   after 2015      0.0       0.0   \n",
       "1      0.475741                1.0  before 2015      1.0       0.0   \n",
       "2      0.839817                1.0  before 2015      1.0       1.0   \n",
       "3      0.682527                1.0  before 2015      0.0       1.0   \n",
       "4      0.572184                1.0   after 2015      1.0       1.0   \n",
       "\n",
       "   POSTAL_CODE  ANNUAL_MILEAGE  SPEEDING_VIOLATIONS  DUIS  PAST_ACCIDENTS  \\\n",
       "0        37379         11000.0                    0     0               0   \n",
       "1        10238          9000.0                    0     0               0   \n",
       "2        10238         12000.0                    0     0               0   \n",
       "3        92099          6000.0                    1     0               0   \n",
       "4        32122         15000.0                    0     0               1   \n",
       "\n",
       "   OUTCOME TYPE_OF_VEHICLE  \n",
       "0      0.0      Sports Car  \n",
       "1      1.0       HatchBack  \n",
       "2      1.0           Sedan  \n",
       "3      1.0           Sedan  \n",
       "4      0.0           Sedan  "
      ]
     },
     "execution_count": 6,
     "metadata": {},
     "output_type": "execute_result"
    }
   ],
   "source": [
    "train.head()"
   ]
  },
  {
   "cell_type": "code",
   "execution_count": 7,
   "id": "72713570",
   "metadata": {},
   "outputs": [
    {
     "data": {
      "text/html": [
       "<div>\n",
       "<style scoped>\n",
       "    .dataframe tbody tr th:only-of-type {\n",
       "        vertical-align: middle;\n",
       "    }\n",
       "\n",
       "    .dataframe tbody tr th {\n",
       "        vertical-align: top;\n",
       "    }\n",
       "\n",
       "    .dataframe thead th {\n",
       "        text-align: right;\n",
       "    }\n",
       "</style>\n",
       "<table border=\"1\" class=\"dataframe\">\n",
       "  <thead>\n",
       "    <tr style=\"text-align: right;\">\n",
       "      <th></th>\n",
       "      <th>ID</th>\n",
       "      <th>AGE</th>\n",
       "      <th>GENDER</th>\n",
       "      <th>DRIVING_EXPERIENCE</th>\n",
       "      <th>EDUCATION</th>\n",
       "      <th>INCOME</th>\n",
       "      <th>CREDIT_SCORE</th>\n",
       "      <th>VEHICLE_OWNERSHIP</th>\n",
       "      <th>VEHICLE_YEAR</th>\n",
       "      <th>MARRIED</th>\n",
       "      <th>CHILDREN</th>\n",
       "      <th>POSTAL_CODE</th>\n",
       "      <th>ANNUAL_MILEAGE</th>\n",
       "      <th>SPEEDING_VIOLATIONS</th>\n",
       "      <th>DUIS</th>\n",
       "      <th>PAST_ACCIDENTS</th>\n",
       "      <th>TYPE_OF_VEHICLE</th>\n",
       "    </tr>\n",
       "  </thead>\n",
       "  <tbody>\n",
       "    <tr>\n",
       "      <th>0</th>\n",
       "      <td>352928</td>\n",
       "      <td>40-64</td>\n",
       "      <td>male</td>\n",
       "      <td>10-19y</td>\n",
       "      <td>none</td>\n",
       "      <td>working class</td>\n",
       "      <td>0.814707</td>\n",
       "      <td>1.0</td>\n",
       "      <td>after 2015</td>\n",
       "      <td>0.0</td>\n",
       "      <td>1.0</td>\n",
       "      <td>10238</td>\n",
       "      <td>10000.0</td>\n",
       "      <td>0</td>\n",
       "      <td>0</td>\n",
       "      <td>0</td>\n",
       "      <td>HatchBack</td>\n",
       "    </tr>\n",
       "    <tr>\n",
       "      <th>1</th>\n",
       "      <td>38579</td>\n",
       "      <td>26-39</td>\n",
       "      <td>female</td>\n",
       "      <td>20-29y</td>\n",
       "      <td>high school</td>\n",
       "      <td>upper class</td>\n",
       "      <td>0.344051</td>\n",
       "      <td>1.0</td>\n",
       "      <td>before 2015</td>\n",
       "      <td>0.0</td>\n",
       "      <td>0.0</td>\n",
       "      <td>34073</td>\n",
       "      <td>13000.0</td>\n",
       "      <td>0</td>\n",
       "      <td>0</td>\n",
       "      <td>0</td>\n",
       "      <td>Sedan</td>\n",
       "    </tr>\n",
       "    <tr>\n",
       "      <th>2</th>\n",
       "      <td>504022</td>\n",
       "      <td>40-64</td>\n",
       "      <td>male</td>\n",
       "      <td>10-19y</td>\n",
       "      <td>none</td>\n",
       "      <td>upper class</td>\n",
       "      <td>0.620691</td>\n",
       "      <td>0.0</td>\n",
       "      <td>after 2015</td>\n",
       "      <td>1.0</td>\n",
       "      <td>0.0</td>\n",
       "      <td>10238</td>\n",
       "      <td>12000.0</td>\n",
       "      <td>0</td>\n",
       "      <td>0</td>\n",
       "      <td>0</td>\n",
       "      <td>SUV</td>\n",
       "    </tr>\n",
       "    <tr>\n",
       "      <th>3</th>\n",
       "      <td>202404</td>\n",
       "      <td>26-39</td>\n",
       "      <td>male</td>\n",
       "      <td>20-29y</td>\n",
       "      <td>high school</td>\n",
       "      <td>upper class</td>\n",
       "      <td>0.689658</td>\n",
       "      <td>1.0</td>\n",
       "      <td>after 2015</td>\n",
       "      <td>1.0</td>\n",
       "      <td>1.0</td>\n",
       "      <td>10238</td>\n",
       "      <td>16000.0</td>\n",
       "      <td>1</td>\n",
       "      <td>0</td>\n",
       "      <td>0</td>\n",
       "      <td>SUV</td>\n",
       "    </tr>\n",
       "    <tr>\n",
       "      <th>4</th>\n",
       "      <td>527913</td>\n",
       "      <td>65+</td>\n",
       "      <td>male</td>\n",
       "      <td>10-19y</td>\n",
       "      <td>none</td>\n",
       "      <td>middle class</td>\n",
       "      <td>0.755666</td>\n",
       "      <td>0.0</td>\n",
       "      <td>after 2015</td>\n",
       "      <td>0.0</td>\n",
       "      <td>1.0</td>\n",
       "      <td>92101</td>\n",
       "      <td>14000.0</td>\n",
       "      <td>2</td>\n",
       "      <td>0</td>\n",
       "      <td>0</td>\n",
       "      <td>HatchBack</td>\n",
       "    </tr>\n",
       "  </tbody>\n",
       "</table>\n",
       "</div>"
      ],
      "text/plain": [
       "       ID    AGE  GENDER DRIVING_EXPERIENCE    EDUCATION         INCOME  \\\n",
       "0  352928  40-64    male             10-19y         none  working class   \n",
       "1   38579  26-39  female             20-29y  high school    upper class   \n",
       "2  504022  40-64    male             10-19y         none    upper class   \n",
       "3  202404  26-39    male             20-29y  high school    upper class   \n",
       "4  527913    65+    male             10-19y         none   middle class   \n",
       "\n",
       "   CREDIT_SCORE  VEHICLE_OWNERSHIP VEHICLE_YEAR  MARRIED  CHILDREN  \\\n",
       "0      0.814707                1.0   after 2015      0.0       1.0   \n",
       "1      0.344051                1.0  before 2015      0.0       0.0   \n",
       "2      0.620691                0.0   after 2015      1.0       0.0   \n",
       "3      0.689658                1.0   after 2015      1.0       1.0   \n",
       "4      0.755666                0.0   after 2015      0.0       1.0   \n",
       "\n",
       "   POSTAL_CODE  ANNUAL_MILEAGE  SPEEDING_VIOLATIONS  DUIS  PAST_ACCIDENTS  \\\n",
       "0        10238         10000.0                    0     0               0   \n",
       "1        34073         13000.0                    0     0               0   \n",
       "2        10238         12000.0                    0     0               0   \n",
       "3        10238         16000.0                    1     0               0   \n",
       "4        92101         14000.0                    2     0               0   \n",
       "\n",
       "  TYPE_OF_VEHICLE  \n",
       "0       HatchBack  \n",
       "1           Sedan  \n",
       "2             SUV  \n",
       "3             SUV  \n",
       "4       HatchBack  "
      ]
     },
     "execution_count": 7,
     "metadata": {},
     "output_type": "execute_result"
    }
   ],
   "source": [
    "test.head()"
   ]
  },
  {
   "cell_type": "markdown",
   "id": "f4596560",
   "metadata": {},
   "source": [
    "### Investigation of Datasets\n",
    "\n",
    "In this section, we will investigate the dataset using historical data (train data) and determine whether it is ready for Exploratory Data Analysis."
   ]
  },
  {
   "cell_type": "code",
   "execution_count": 8,
   "id": "ff135d92",
   "metadata": {},
   "outputs": [
    {
     "name": "stdout",
     "output_type": "stream",
     "text": [
      "we have (105000, 18) in our data\n",
      "we have 105000 in our rows\n",
      "we have 18 in our columns\n"
     ]
    }
   ],
   "source": [
    "print('we have {} in our data'.format(train.shape))\n",
    "print('we have {} in our rows'.format(train.shape[0]))\n",
    "print('we have {} in our columns'.format(train.shape[1]))"
   ]
  },
  {
   "cell_type": "code",
   "execution_count": 9,
   "id": "ab334c66",
   "metadata": {},
   "outputs": [
    {
     "data": {
      "text/plain": [
       "False"
      ]
     },
     "execution_count": 9,
     "metadata": {},
     "output_type": "execute_result"
    }
   ],
   "source": [
    "### check if there is any missing values\n",
    "train.isnull().sum().any()"
   ]
  },
  {
   "cell_type": "code",
   "execution_count": 10,
   "id": "b8cdb1d7",
   "metadata": {},
   "outputs": [
    {
     "name": "stdout",
     "output_type": "stream",
     "text": [
      "<class 'pandas.core.frame.DataFrame'>\n",
      "RangeIndex: 105000 entries, 0 to 104999\n",
      "Data columns (total 18 columns):\n",
      " #   Column               Non-Null Count   Dtype  \n",
      "---  ------               --------------   -----  \n",
      " 0   ID                   105000 non-null  int64  \n",
      " 1   AGE                  105000 non-null  object \n",
      " 2   GENDER               105000 non-null  object \n",
      " 3   DRIVING_EXPERIENCE   105000 non-null  object \n",
      " 4   EDUCATION            105000 non-null  object \n",
      " 5   INCOME               105000 non-null  object \n",
      " 6   CREDIT_SCORE         105000 non-null  float64\n",
      " 7   VEHICLE_OWNERSHIP    105000 non-null  float64\n",
      " 8   VEHICLE_YEAR         105000 non-null  object \n",
      " 9   MARRIED              105000 non-null  float64\n",
      " 10  CHILDREN             105000 non-null  float64\n",
      " 11  POSTAL_CODE          105000 non-null  int64  \n",
      " 12  ANNUAL_MILEAGE       105000 non-null  float64\n",
      " 13  SPEEDING_VIOLATIONS  105000 non-null  int64  \n",
      " 14  DUIS                 105000 non-null  int64  \n",
      " 15  PAST_ACCIDENTS       105000 non-null  int64  \n",
      " 16  OUTCOME              105000 non-null  float64\n",
      " 17  TYPE_OF_VEHICLE      105000 non-null  object \n",
      "dtypes: float64(6), int64(5), object(7)\n",
      "memory usage: 14.4+ MB\n"
     ]
    }
   ],
   "source": [
    "## check the different data types in our data\n",
    "train.info()"
   ]
  },
  {
   "cell_type": "markdown",
   "id": "0ad3fa26",
   "metadata": {},
   "source": [
    "We have 6 Numeric features, 5 Integers and 7 Categorical features."
   ]
  },
  {
   "cell_type": "markdown",
   "id": "bd171219",
   "metadata": {},
   "source": [
    "#### Checking the descriptive statistics of the Numeric and Integer features"
   ]
  },
  {
   "cell_type": "code",
   "execution_count": 11,
   "id": "3c8d19a9",
   "metadata": {},
   "outputs": [
    {
     "data": {
      "text/html": [
       "<div>\n",
       "<style scoped>\n",
       "    .dataframe tbody tr th:only-of-type {\n",
       "        vertical-align: middle;\n",
       "    }\n",
       "\n",
       "    .dataframe tbody tr th {\n",
       "        vertical-align: top;\n",
       "    }\n",
       "\n",
       "    .dataframe thead th {\n",
       "        text-align: right;\n",
       "    }\n",
       "</style>\n",
       "<table border=\"1\" class=\"dataframe\">\n",
       "  <thead>\n",
       "    <tr style=\"text-align: right;\">\n",
       "      <th></th>\n",
       "      <th>ID</th>\n",
       "      <th>CREDIT_SCORE</th>\n",
       "      <th>VEHICLE_OWNERSHIP</th>\n",
       "      <th>MARRIED</th>\n",
       "      <th>CHILDREN</th>\n",
       "      <th>POSTAL_CODE</th>\n",
       "      <th>ANNUAL_MILEAGE</th>\n",
       "      <th>SPEEDING_VIOLATIONS</th>\n",
       "      <th>DUIS</th>\n",
       "      <th>PAST_ACCIDENTS</th>\n",
       "      <th>OUTCOME</th>\n",
       "    </tr>\n",
       "  </thead>\n",
       "  <tbody>\n",
       "    <tr>\n",
       "      <th>count</th>\n",
       "      <td>105000.000000</td>\n",
       "      <td>105000.000000</td>\n",
       "      <td>105000.000000</td>\n",
       "      <td>105000.000000</td>\n",
       "      <td>105000.000000</td>\n",
       "      <td>105000.000000</td>\n",
       "      <td>105000.000000</td>\n",
       "      <td>105000.000000</td>\n",
       "      <td>105000.000000</td>\n",
       "      <td>105000.000000</td>\n",
       "      <td>105000.000000</td>\n",
       "    </tr>\n",
       "    <tr>\n",
       "      <th>mean</th>\n",
       "      <td>394931.295905</td>\n",
       "      <td>0.602173</td>\n",
       "      <td>0.827038</td>\n",
       "      <td>0.584143</td>\n",
       "      <td>0.520000</td>\n",
       "      <td>18045.439267</td>\n",
       "      <td>11061.228571</td>\n",
       "      <td>0.675676</td>\n",
       "      <td>0.129733</td>\n",
       "      <td>0.549314</td>\n",
       "      <td>0.422648</td>\n",
       "    </tr>\n",
       "    <tr>\n",
       "      <th>std</th>\n",
       "      <td>279694.106053</td>\n",
       "      <td>0.138045</td>\n",
       "      <td>0.378216</td>\n",
       "      <td>0.492871</td>\n",
       "      <td>0.499602</td>\n",
       "      <td>16709.040449</td>\n",
       "      <td>2972.355482</td>\n",
       "      <td>1.383678</td>\n",
       "      <td>0.589714</td>\n",
       "      <td>1.402809</td>\n",
       "      <td>0.493983</td>\n",
       "    </tr>\n",
       "    <tr>\n",
       "      <th>min</th>\n",
       "      <td>101.000000</td>\n",
       "      <td>0.066880</td>\n",
       "      <td>0.000000</td>\n",
       "      <td>0.000000</td>\n",
       "      <td>0.000000</td>\n",
       "      <td>10238.000000</td>\n",
       "      <td>2000.000000</td>\n",
       "      <td>0.000000</td>\n",
       "      <td>0.000000</td>\n",
       "      <td>0.000000</td>\n",
       "      <td>0.000000</td>\n",
       "    </tr>\n",
       "    <tr>\n",
       "      <th>25%</th>\n",
       "      <td>156351.750000</td>\n",
       "      <td>0.514876</td>\n",
       "      <td>1.000000</td>\n",
       "      <td>0.000000</td>\n",
       "      <td>0.000000</td>\n",
       "      <td>10238.000000</td>\n",
       "      <td>9000.000000</td>\n",
       "      <td>0.000000</td>\n",
       "      <td>0.000000</td>\n",
       "      <td>0.000000</td>\n",
       "      <td>0.000000</td>\n",
       "    </tr>\n",
       "    <tr>\n",
       "      <th>50%</th>\n",
       "      <td>354679.500000</td>\n",
       "      <td>0.601112</td>\n",
       "      <td>1.000000</td>\n",
       "      <td>1.000000</td>\n",
       "      <td>1.000000</td>\n",
       "      <td>10238.000000</td>\n",
       "      <td>11000.000000</td>\n",
       "      <td>0.000000</td>\n",
       "      <td>0.000000</td>\n",
       "      <td>0.000000</td>\n",
       "      <td>0.000000</td>\n",
       "    </tr>\n",
       "    <tr>\n",
       "      <th>75%</th>\n",
       "      <td>598602.250000</td>\n",
       "      <td>0.703216</td>\n",
       "      <td>1.000000</td>\n",
       "      <td>1.000000</td>\n",
       "      <td>1.000000</td>\n",
       "      <td>22957.750000</td>\n",
       "      <td>13000.000000</td>\n",
       "      <td>1.000000</td>\n",
       "      <td>0.000000</td>\n",
       "      <td>0.000000</td>\n",
       "      <td>1.000000</td>\n",
       "    </tr>\n",
       "    <tr>\n",
       "      <th>max</th>\n",
       "      <td>999976.000000</td>\n",
       "      <td>0.954075</td>\n",
       "      <td>1.000000</td>\n",
       "      <td>1.000000</td>\n",
       "      <td>1.000000</td>\n",
       "      <td>92101.000000</td>\n",
       "      <td>21000.000000</td>\n",
       "      <td>20.000000</td>\n",
       "      <td>6.000000</td>\n",
       "      <td>15.000000</td>\n",
       "      <td>1.000000</td>\n",
       "    </tr>\n",
       "  </tbody>\n",
       "</table>\n",
       "</div>"
      ],
      "text/plain": [
       "                  ID   CREDIT_SCORE  VEHICLE_OWNERSHIP        MARRIED  \\\n",
       "count  105000.000000  105000.000000      105000.000000  105000.000000   \n",
       "mean   394931.295905       0.602173           0.827038       0.584143   \n",
       "std    279694.106053       0.138045           0.378216       0.492871   \n",
       "min       101.000000       0.066880           0.000000       0.000000   \n",
       "25%    156351.750000       0.514876           1.000000       0.000000   \n",
       "50%    354679.500000       0.601112           1.000000       1.000000   \n",
       "75%    598602.250000       0.703216           1.000000       1.000000   \n",
       "max    999976.000000       0.954075           1.000000       1.000000   \n",
       "\n",
       "            CHILDREN    POSTAL_CODE  ANNUAL_MILEAGE  SPEEDING_VIOLATIONS  \\\n",
       "count  105000.000000  105000.000000   105000.000000        105000.000000   \n",
       "mean        0.520000   18045.439267    11061.228571             0.675676   \n",
       "std         0.499602   16709.040449     2972.355482             1.383678   \n",
       "min         0.000000   10238.000000     2000.000000             0.000000   \n",
       "25%         0.000000   10238.000000     9000.000000             0.000000   \n",
       "50%         1.000000   10238.000000    11000.000000             0.000000   \n",
       "75%         1.000000   22957.750000    13000.000000             1.000000   \n",
       "max         1.000000   92101.000000    21000.000000            20.000000   \n",
       "\n",
       "                DUIS  PAST_ACCIDENTS        OUTCOME  \n",
       "count  105000.000000   105000.000000  105000.000000  \n",
       "mean        0.129733        0.549314       0.422648  \n",
       "std         0.589714        1.402809       0.493983  \n",
       "min         0.000000        0.000000       0.000000  \n",
       "25%         0.000000        0.000000       0.000000  \n",
       "50%         0.000000        0.000000       0.000000  \n",
       "75%         0.000000        0.000000       1.000000  \n",
       "max         6.000000       15.000000       1.000000  "
      ]
     },
     "execution_count": 11,
     "metadata": {},
     "output_type": "execute_result"
    }
   ],
   "source": [
    "train.select_dtypes(exclude='O').describe()"
   ]
  },
  {
   "cell_type": "markdown",
   "id": "55c9b33a",
   "metadata": {},
   "source": [
    "**Observation**\n",
    "\n",
    "1. 75% of the client as a Credit Score < 70%\n",
    "\n",
    "2. 75% of the client are with Vehicle Ownership\n",
    "\n",
    "3. The Average Annual Mileage is 11061.\n",
    "\n",
    "4. Some client as 15 past accidents"
   ]
  },
  {
   "cell_type": "markdown",
   "id": "1cf0df1a",
   "metadata": {},
   "source": [
    "### Checking the category of the categorical data"
   ]
  },
  {
   "cell_type": "code",
   "execution_count": 12,
   "id": "d4ca0ecb",
   "metadata": {},
   "outputs": [
    {
     "name": "stdout",
     "output_type": "stream",
     "text": [
      "-----------------------------------\n",
      "40-64    32.110476\n",
      "65+      31.392381\n",
      "26-39    19.064762\n",
      "16-25    17.432381\n",
      "Name: AGE, dtype: float64\n",
      "-----------------------------------\n",
      "male      62.206667\n",
      "female    37.793333\n",
      "Name: GENDER, dtype: float64\n",
      "-----------------------------------\n",
      "20-29y    35.707619\n",
      "0-9y      31.534286\n",
      "10-19y    23.905714\n",
      "30y+       8.852381\n",
      "Name: DRIVING_EXPERIENCE, dtype: float64\n",
      "-----------------------------------\n",
      "high school    44.371429\n",
      "university     29.733333\n",
      "none           25.895238\n",
      "Name: EDUCATION, dtype: float64\n",
      "-----------------------------------\n",
      "upper class      48.829524\n",
      "working class    23.289524\n",
      "middle class     14.036190\n",
      "poverty          13.844762\n",
      "Name: INCOME, dtype: float64\n",
      "-----------------------------------\n",
      "before 2015    54.772381\n",
      "after 2015     45.227619\n",
      "Name: VEHICLE_YEAR, dtype: float64\n",
      "-----------------------------------\n",
      "Sports Car    32.944762\n",
      "Sedan         26.780952\n",
      "HatchBack     23.714286\n",
      "SUV           16.560000\n",
      "Name: TYPE_OF_VEHICLE, dtype: float64\n"
     ]
    }
   ],
   "source": [
    "for cat_col in train.select_dtypes('O').columns:\n",
    "    print('-----------------------------------')\n",
    "    print(train[cat_col].value_counts(normalize=True) * 100)"
   ]
  },
  {
   "cell_type": "markdown",
   "id": "a8a6f6b1",
   "metadata": {},
   "source": [
    "### Correct the datatypes of marriage, children and Vehicle Ownership"
   ]
  },
  {
   "cell_type": "code",
   "execution_count": 13,
   "id": "e3676f03",
   "metadata": {},
   "outputs": [],
   "source": [
    "correct_dt = ['VEHICLE_OWNERSHIP', 'MARRIED', 'CHILDREN']"
   ]
  },
  {
   "cell_type": "code",
   "execution_count": 14,
   "id": "2bf01a68",
   "metadata": {},
   "outputs": [],
   "source": [
    "for col in correct_dt:\n",
    "    train[col] = train[col].astype('int64')\n",
    "    test[col] = test[col].astype('int64')"
   ]
  },
  {
   "cell_type": "markdown",
   "id": "cb2c045f",
   "metadata": {},
   "source": [
    "### Descriptive Analysis ( Exploratory Data Analysis)\n",
    "\n",
    "In this section, we will use data visualization to explore our dataset.\n",
    "\n",
    "The data will be explored using **Uni-Variate**, **Bi-Variate**, and **Multi-Variate** Analysis."
   ]
  },
  {
   "cell_type": "markdown",
   "id": "0623302c",
   "metadata": {},
   "source": [
    "#### Uni-Variate Analysis."
   ]
  },
  {
   "cell_type": "markdown",
   "id": "e164b947",
   "metadata": {},
   "source": [
    "**Question 1**\n",
    "\n",
    "What is the percentage of OUTCOME?"
   ]
  },
  {
   "cell_type": "code",
   "execution_count": 15,
   "id": "09239aa5",
   "metadata": {},
   "outputs": [],
   "source": [
    "y = train['OUTCOME']"
   ]
  },
  {
   "cell_type": "code",
   "execution_count": 16,
   "id": "b22ea9dd",
   "metadata": {},
   "outputs": [],
   "source": [
    "### having outcome label\n",
    "\n",
    "train['OUTCOME'] = train['OUTCOME'].replace({0:'Rejected', 1:'Accepted'})"
   ]
  },
  {
   "cell_type": "code",
   "execution_count": 17,
   "id": "d5c1e992",
   "metadata": {},
   "outputs": [
    {
     "data": {
      "image/png": "[encoded data removed]",
      "text/plain": [
       "<Figure size 576x360 with 1 Axes>"
      ]
     },
     "metadata": {
      "needs_background": "light"
     },
     "output_type": "display_data"
    }
   ],
   "source": [
    "plt.figure(figsize=(8,5))\n",
    "ax = sns.countplot(x='OUTCOME', data=train, order = train['OUTCOME'].value_counts().index)\n",
    "without_hue(ax, train['OUTCOME'])"
   ]
  },
  {
   "cell_type": "markdown",
   "id": "b3ac05cc",
   "metadata": {},
   "source": [
    "**Observation**\n",
    "\n",
    "57% of the claims are rejected and 42.3% of the claims are accepted."
   ]
  },
  {
   "cell_type": "markdown",
   "id": "d36851ad",
   "metadata": {},
   "source": [
    "**Question 2**\n",
    "\n",
    "What is the gender ratio of the clients?"
   ]
  },
  {
   "cell_type": "code",
   "execution_count": 18,
   "id": "50ae5f78",
   "metadata": {},
   "outputs": [
    {
     "data": {
      "image/png": "[encoded data removed]",
      "text/plain": [
       "<Figure size 576x360 with 1 Axes>"
      ]
     },
     "metadata": {
      "needs_background": "light"
     },
     "output_type": "display_data"
    }
   ],
   "source": [
    "plt.figure(figsize=(8,5))\n",
    "ax = sns.countplot(x='GENDER', data=train, order = train['GENDER'].value_counts().index)\n",
    "without_hue(ax, train['GENDER'])"
   ]
  },
  {
   "cell_type": "markdown",
   "id": "b2527e20",
   "metadata": {},
   "source": [
    "**Observation**\n",
    "\n",
    "Males account for 62.2% of clients, while females account for 37.8%."
   ]
  },
  {
   "cell_type": "markdown",
   "id": "d19c7d0b",
   "metadata": {},
   "source": [
    "**Question 3**\n",
    "\n",
    "Which age group do the majority of the clients belong to?"
   ]
  },
  {
   "cell_type": "code",
   "execution_count": 19,
   "id": "15b38361",
   "metadata": {},
   "outputs": [
    {
     "data": {
      "image/png": "[encoded data removed]",
      "text/plain": [
       "<Figure size 576x360 with 1 Axes>"
      ]
     },
     "metadata": {
      "needs_background": "light"
     },
     "output_type": "display_data"
    }
   ],
   "source": [
    "plt.figure(figsize=(8,5))\n",
    "train['AGE'].value_counts().plot(kind='bar')\n",
    "plt.xlabel('Age Group')\n",
    "plt.ylabel('Count');"
   ]
  },
  {
   "cell_type": "markdown",
   "id": "0d9348bc",
   "metadata": {},
   "source": [
    "**Observation**\n",
    "\n",
    "The majority of the clients are over the age of 40."
   ]
  },
  {
   "cell_type": "markdown",
   "id": "53ecacfa",
   "metadata": {},
   "source": [
    "**Question 4**\n",
    "\n",
    "Driving Experience of Clients"
   ]
  },
  {
   "cell_type": "code",
   "execution_count": 20,
   "id": "b1954463",
   "metadata": {},
   "outputs": [
    {
     "data": {
      "image/png": "[encoded data removed]",
      "text/plain": [
       "<Figure size 576x360 with 1 Axes>"
      ]
     },
     "metadata": {
      "needs_background": "light"
     },
     "output_type": "display_data"
    }
   ],
   "source": [
    "plt.figure(figsize=(8,5))\n",
    "train['DRIVING_EXPERIENCE'].value_counts().plot(kind='bar')\n",
    "plt.xlabel('Driving Experience')\n",
    "plt.ylabel('Count');"
   ]
  },
  {
   "cell_type": "markdown",
   "id": "3576f855",
   "metadata": {},
   "source": [
    "**Observation**\n",
    "\n",
    "The majority of our clients have 20-29 years of driving experience, while the fewest have 30+ years."
   ]
  },
  {
   "cell_type": "markdown",
   "id": "81da63aa",
   "metadata": {},
   "source": [
    "**Question 5**\n",
    "\n",
    "Clients' educational level ratio"
   ]
  },
  {
   "cell_type": "code",
   "execution_count": 21,
   "id": "14149c30",
   "metadata": {},
   "outputs": [
    {
     "data": {
      "image/png": "[encoded data removed]",
      "text/plain": [
       "<Figure size 576x360 with 1 Axes>"
      ]
     },
     "metadata": {
      "needs_background": "light"
     },
     "output_type": "display_data"
    }
   ],
   "source": [
    "plt.figure(figsize=(8,5))\n",
    "ax = sns.countplot(x='EDUCATION', data=train, order = train['EDUCATION'].value_counts().index)\n",
    "without_hue(ax, train['EDUCATION'])"
   ]
  },
  {
   "cell_type": "markdown",
   "id": "e57cb8f3",
   "metadata": {},
   "source": [
    "**Observation**\n",
    "\n",
    "44.4% of the clients have a high school diploma, 29.7% have a university diploma, and 25.9% have no education."
   ]
  },
  {
   "cell_type": "markdown",
   "id": "4889d586",
   "metadata": {},
   "source": [
    "**Question No. 6**\n",
    "\n",
    "Clients' income level ratio."
   ]
  },
  {
   "cell_type": "code",
   "execution_count": 22,
   "id": "7bfb8460",
   "metadata": {},
   "outputs": [
    {
     "data": {
      "image/png": "[encoded data removed]",
      "text/plain": [
       "<Figure size 576x360 with 1 Axes>"
      ]
     },
     "metadata": {
      "needs_background": "light"
     },
     "output_type": "display_data"
    }
   ],
   "source": [
    "plt.figure(figsize=(8,5))\n",
    "ax = sns.countplot(x='INCOME', data=train, order = train['INCOME'].value_counts().index)\n",
    "without_hue(ax, train['INCOME'])"
   ]
  },
  {
   "cell_type": "markdown",
   "id": "5ee555a3",
   "metadata": {},
   "source": [
    "**Observation**\n",
    "\n",
    "48.8%% of the clients are upper class, 23.3% are working class, 14.0 are middle class and we have 13.8 of clients categorize income to be in poverty."
   ]
  },
  {
   "cell_type": "markdown",
   "id": "a0593bd0",
   "metadata": {},
   "source": [
    "**Question 7**\n",
    "\n",
    "The Most Common Vehicle Types"
   ]
  },
  {
   "cell_type": "code",
   "execution_count": 23,
   "id": "411d81cb",
   "metadata": {},
   "outputs": [
    {
     "data": {
      "image/png": "[encoded data removed]",
      "text/plain": [
       "<Figure size 576x360 with 1 Axes>"
      ]
     },
     "metadata": {
      "needs_background": "light"
     },
     "output_type": "display_data"
    }
   ],
   "source": [
    "plt.figure(figsize=(8,5))\n",
    "train['TYPE_OF_VEHICLE'].value_counts().plot(kind='bar')\n",
    "plt.xlabel('Type of Vehicle')\n",
    "plt.ylabel('Count');"
   ]
  },
  {
   "cell_type": "markdown",
   "id": "c5eeb7e4",
   "metadata": {},
   "source": [
    "**Observation**\n",
    "\n",
    "Sports car > Sedan > HatchBack > SUV"
   ]
  },
  {
   "cell_type": "markdown",
   "id": "562ecd21",
   "metadata": {},
   "source": [
    "**Question 8**\n",
    "\n",
    "The Distribution of our numeric features"
   ]
  },
  {
   "cell_type": "code",
   "execution_count": 24,
   "id": "4b5555a4",
   "metadata": {},
   "outputs": [
    {
     "data": {
      "text/plain": [
       "Index(['CREDIT_SCORE', 'ANNUAL_MILEAGE'], dtype='object')"
      ]
     },
     "execution_count": 24,
     "metadata": {},
     "output_type": "execute_result"
    }
   ],
   "source": [
    "train.select_dtypes('float64').columns"
   ]
  },
  {
   "cell_type": "code",
   "execution_count": 25,
   "id": "472a25aa",
   "metadata": {
    "scrolled": true
   },
   "outputs": [
    {
     "data": {
      "image/png": "[encoded data removed]",
      "text/plain": [
       "<Figure size 576x360 with 2 Axes>"
      ]
     },
     "metadata": {
      "needs_background": "light"
     },
     "output_type": "display_data"
    }
   ],
   "source": [
    "plt.figure(figsize=(8,5))\n",
    "\n",
    "plt.subplot(1, 2, 1) \n",
    "plt.hist(data = train, x = 'CREDIT_SCORE', bins=10);\n",
    "\n",
    "plt.subplot(1, 2, 2)\n",
    "plt.hist(data = train, x = 'ANNUAL_MILEAGE');"
   ]
  },
  {
   "cell_type": "markdown",
   "id": "34031ff4",
   "metadata": {},
   "source": [
    "**Observation**\n",
    "\n",
    "The distribution appears to be normal."
   ]
  },
  {
   "cell_type": "markdown",
   "id": "a75d9666",
   "metadata": {},
   "source": [
    "### Bi-Variate Analysis\n",
    "\n",
    "In this section, we are going to be comparing 2 variables at a time."
   ]
  },
  {
   "cell_type": "markdown",
   "id": "86b8ace9",
   "metadata": {},
   "source": [
    "**Question No. 9**\n",
    "\n",
    "What is the gender ratio in terms of outcome?"
   ]
  },
  {
   "cell_type": "code",
   "execution_count": 26,
   "id": "0f234fc0",
   "metadata": {},
   "outputs": [
    {
     "data": {
      "image/png": "[encoded data removed]",
      "text/plain": [
       "<Figure size 576x360 with 2 Axes>"
      ]
     },
     "metadata": {
      "needs_background": "light"
     },
     "output_type": "display_data"
    }
   ],
   "source": [
    "plt.figure(figsize=(8,5))\n",
    "sns.heatmap(pd.crosstab(train['GENDER'], train['OUTCOME'], normalize=True), annot=True);"
   ]
  },
  {
   "cell_type": "markdown",
   "id": "ee8b5147",
   "metadata": {},
   "source": [
    "**Observation**\n",
    "\n",
    "Female claims are accepted at 16% and rejected at 22%.\n",
    "\n",
    "26% of male claims are accepted, while 36% are denied."
   ]
  },
  {
   "cell_type": "markdown",
   "id": "273821b6",
   "metadata": {},
   "source": [
    "**Question 10**\n",
    "\n",
    "What is the age group ratio in relation to the outcome?"
   ]
  },
  {
   "cell_type": "code",
   "execution_count": 27,
   "id": "8a8fc41c",
   "metadata": {},
   "outputs": [
    {
     "data": {
      "image/png": "[encoded data removed]",
      "text/plain": [
       "<Figure size 576x360 with 1 Axes>"
      ]
     },
     "metadata": {
      "needs_background": "light"
     },
     "output_type": "display_data"
    }
   ],
   "source": [
    "plt.figure(figsize=(8,5))\n",
    "sns.countplot(data = train, x = 'AGE', hue = 'OUTCOME', palette = 'Greens', \n",
    "              order=['65+', '40-64', '26-39', '16-25']);"
   ]
  },
  {
   "cell_type": "markdown",
   "id": "19172045",
   "metadata": {},
   "source": [
    "**Observation**\n",
    "\n",
    "The Age Group with Outcome appears to be balanced across various Age Groups."
   ]
  },
  {
   "cell_type": "markdown",
   "id": "dc01a885",
   "metadata": {},
   "source": [
    "**Question  11**\n",
    "\n",
    "Outcome based on social and economic status."
   ]
  },
  {
   "cell_type": "code",
   "execution_count": 28,
   "id": "20dc8d87",
   "metadata": {},
   "outputs": [
    {
     "data": {
      "text/html": [
       "<div>\n",
       "<style scoped>\n",
       "    .dataframe tbody tr th:only-of-type {\n",
       "        vertical-align: middle;\n",
       "    }\n",
       "\n",
       "    .dataframe tbody tr th {\n",
       "        vertical-align: top;\n",
       "    }\n",
       "\n",
       "    .dataframe thead th {\n",
       "        text-align: right;\n",
       "    }\n",
       "</style>\n",
       "<table border=\"1\" class=\"dataframe\">\n",
       "  <thead>\n",
       "    <tr style=\"text-align: right;\">\n",
       "      <th></th>\n",
       "      <th>ID</th>\n",
       "      <th>AGE</th>\n",
       "      <th>GENDER</th>\n",
       "      <th>DRIVING_EXPERIENCE</th>\n",
       "      <th>EDUCATION</th>\n",
       "      <th>INCOME</th>\n",
       "      <th>CREDIT_SCORE</th>\n",
       "      <th>VEHICLE_OWNERSHIP</th>\n",
       "      <th>VEHICLE_YEAR</th>\n",
       "      <th>MARRIED</th>\n",
       "      <th>CHILDREN</th>\n",
       "      <th>POSTAL_CODE</th>\n",
       "      <th>ANNUAL_MILEAGE</th>\n",
       "      <th>SPEEDING_VIOLATIONS</th>\n",
       "      <th>DUIS</th>\n",
       "      <th>PAST_ACCIDENTS</th>\n",
       "      <th>OUTCOME</th>\n",
       "      <th>TYPE_OF_VEHICLE</th>\n",
       "    </tr>\n",
       "  </thead>\n",
       "  <tbody>\n",
       "    <tr>\n",
       "      <th>0</th>\n",
       "      <td>816393</td>\n",
       "      <td>40-64</td>\n",
       "      <td>female</td>\n",
       "      <td>20-29y</td>\n",
       "      <td>university</td>\n",
       "      <td>middle class</td>\n",
       "      <td>0.638050</td>\n",
       "      <td>0</td>\n",
       "      <td>after 2015</td>\n",
       "      <td>0</td>\n",
       "      <td>0</td>\n",
       "      <td>37379</td>\n",
       "      <td>11000.0</td>\n",
       "      <td>0</td>\n",
       "      <td>0</td>\n",
       "      <td>0</td>\n",
       "      <td>Rejected</td>\n",
       "      <td>Sports Car</td>\n",
       "    </tr>\n",
       "    <tr>\n",
       "      <th>1</th>\n",
       "      <td>251762</td>\n",
       "      <td>26-39</td>\n",
       "      <td>male</td>\n",
       "      <td>20-29y</td>\n",
       "      <td>high school</td>\n",
       "      <td>middle class</td>\n",
       "      <td>0.475741</td>\n",
       "      <td>1</td>\n",
       "      <td>before 2015</td>\n",
       "      <td>1</td>\n",
       "      <td>0</td>\n",
       "      <td>10238</td>\n",
       "      <td>9000.0</td>\n",
       "      <td>0</td>\n",
       "      <td>0</td>\n",
       "      <td>0</td>\n",
       "      <td>Accepted</td>\n",
       "      <td>HatchBack</td>\n",
       "    </tr>\n",
       "    <tr>\n",
       "      <th>2</th>\n",
       "      <td>481952</td>\n",
       "      <td>40-64</td>\n",
       "      <td>male</td>\n",
       "      <td>20-29y</td>\n",
       "      <td>none</td>\n",
       "      <td>middle class</td>\n",
       "      <td>0.839817</td>\n",
       "      <td>1</td>\n",
       "      <td>before 2015</td>\n",
       "      <td>1</td>\n",
       "      <td>1</td>\n",
       "      <td>10238</td>\n",
       "      <td>12000.0</td>\n",
       "      <td>0</td>\n",
       "      <td>0</td>\n",
       "      <td>0</td>\n",
       "      <td>Accepted</td>\n",
       "      <td>Sedan</td>\n",
       "    </tr>\n",
       "    <tr>\n",
       "      <th>3</th>\n",
       "      <td>3506</td>\n",
       "      <td>40-64</td>\n",
       "      <td>male</td>\n",
       "      <td>20-29y</td>\n",
       "      <td>high school</td>\n",
       "      <td>upper class</td>\n",
       "      <td>0.682527</td>\n",
       "      <td>1</td>\n",
       "      <td>before 2015</td>\n",
       "      <td>0</td>\n",
       "      <td>1</td>\n",
       "      <td>92099</td>\n",
       "      <td>6000.0</td>\n",
       "      <td>1</td>\n",
       "      <td>0</td>\n",
       "      <td>0</td>\n",
       "      <td>Accepted</td>\n",
       "      <td>Sedan</td>\n",
       "    </tr>\n",
       "    <tr>\n",
       "      <th>4</th>\n",
       "      <td>498013</td>\n",
       "      <td>40-64</td>\n",
       "      <td>female</td>\n",
       "      <td>20-29y</td>\n",
       "      <td>none</td>\n",
       "      <td>working class</td>\n",
       "      <td>0.572184</td>\n",
       "      <td>1</td>\n",
       "      <td>after 2015</td>\n",
       "      <td>1</td>\n",
       "      <td>1</td>\n",
       "      <td>32122</td>\n",
       "      <td>15000.0</td>\n",
       "      <td>0</td>\n",
       "      <td>0</td>\n",
       "      <td>1</td>\n",
       "      <td>Rejected</td>\n",
       "      <td>Sedan</td>\n",
       "    </tr>\n",
       "  </tbody>\n",
       "</table>\n",
       "</div>"
      ],
      "text/plain": [
       "       ID    AGE  GENDER DRIVING_EXPERIENCE    EDUCATION         INCOME  \\\n",
       "0  816393  40-64  female             20-29y   university   middle class   \n",
       "1  251762  26-39    male             20-29y  high school   middle class   \n",
       "2  481952  40-64    male             20-29y         none   middle class   \n",
       "3    3506  40-64    male             20-29y  high school    upper class   \n",
       "4  498013  40-64  female             20-29y         none  working class   \n",
       "\n",
       "   CREDIT_SCORE  VEHICLE_OWNERSHIP VEHICLE_YEAR  MARRIED  CHILDREN  \\\n",
       "0      0.638050                  0   after 2015        0         0   \n",
       "1      0.475741                  1  before 2015        1         0   \n",
       "2      0.839817                  1  before 2015        1         1   \n",
       "3      0.682527                  1  before 2015        0         1   \n",
       "4      0.572184                  1   after 2015        1         1   \n",
       "\n",
       "   POSTAL_CODE  ANNUAL_MILEAGE  SPEEDING_VIOLATIONS  DUIS  PAST_ACCIDENTS  \\\n",
       "0        37379         11000.0                    0     0               0   \n",
       "1        10238          9000.0                    0     0               0   \n",
       "2        10238         12000.0                    0     0               0   \n",
       "3        92099          6000.0                    1     0               0   \n",
       "4        32122         15000.0                    0     0               1   \n",
       "\n",
       "    OUTCOME TYPE_OF_VEHICLE  \n",
       "0  Rejected      Sports Car  \n",
       "1  Accepted       HatchBack  \n",
       "2  Accepted           Sedan  \n",
       "3  Accepted           Sedan  \n",
       "4  Rejected           Sedan  "
      ]
     },
     "execution_count": 28,
     "metadata": {},
     "output_type": "execute_result"
    }
   ],
   "source": [
    "train.head()"
   ]
  },
  {
   "cell_type": "code",
   "execution_count": 29,
   "id": "a5c2c74b",
   "metadata": {},
   "outputs": [
    {
     "data": {
      "image/png": "[encoded data removed]",
      "text/plain": [
       "<Figure size 576x360 with 3 Axes>"
      ]
     },
     "metadata": {
      "needs_background": "light"
     },
     "output_type": "display_data"
    }
   ],
   "source": [
    "plt.figure(figsize = [8, 5])\n",
    "\n",
    "\n",
    "ax = plt.subplot(3, 1, 1)\n",
    "sns.countplot(data = train, x = 'EDUCATION', hue = 'OUTCOME', palette = 'Blues')\n",
    "ax.legend(ncol = 2)\n",
    "\n",
    "# subplot 2 \n",
    "ax = plt.subplot(3, 1, 2)\n",
    "sns.countplot(data = train, x = 'INCOME', hue = 'OUTCOME', palette = 'Greens')\n",
    "ax.legend(loc = 1, ncol = 2)\n",
    "\n",
    "ax = plt.subplot(3, 1, 3)\n",
    "sns.countplot(data = train, x = 'TYPE_OF_VEHICLE', hue = 'OUTCOME')\n",
    "ax.legend(loc = 1, ncol = 2)\n",
    "\n",
    "plt.show()"
   ]
  },
  {
   "cell_type": "markdown",
   "id": "0fbffdbb",
   "metadata": {},
   "source": [
    "**Observation**\n",
    "\n",
    "The distribution of the Rejected and Accepted are similar across each social economic status."
   ]
  },
  {
   "cell_type": "markdown",
   "id": "5b3bde22",
   "metadata": {},
   "source": [
    "**Question 12**\n",
    "\n",
    "Is there a correlation between credit score and annual mileage"
   ]
  },
  {
   "cell_type": "code",
   "execution_count": 48,
   "id": "cf7fc76c",
   "metadata": {},
   "outputs": [
    {
     "data": {
      "image/png": "[encoded data removed]",
      "text/plain": [
       "<Figure size 432x288 with 1 Axes>"
      ]
     },
     "metadata": {
      "needs_background": "light"
     },
     "output_type": "display_data"
    }
   ],
   "source": [
    "plt.scatter(x='CREDIT_SCORE', y='ANNUAL_MILEAGE', data=train)\n",
    "plt.ylabel('credit_score')\n",
    "plt.xlabel('annual_mileage');"
   ]
  },
  {
   "cell_type": "code",
   "execution_count": 31,
   "id": "4d9cc251",
   "metadata": {},
   "outputs": [
    {
     "data": {
      "text/plain": [
       "-0.02031295599173113"
      ]
     },
     "execution_count": 31,
     "metadata": {},
     "output_type": "execute_result"
    }
   ],
   "source": [
    "train['ANNUAL_MILEAGE'].corr(train['CREDIT_SCORE'])"
   ]
  },
  {
   "cell_type": "markdown",
   "id": "cad5b76d",
   "metadata": {},
   "source": [
    "**Observation**\n",
    "\n",
    "We can see a weakly negative correlation between them."
   ]
  },
  {
   "cell_type": "markdown",
   "id": "6bca9483",
   "metadata": {},
   "source": [
    "Diagonistics Analysis (Statistical Analysis)\n",
    "\n",
    "In this section, we'll use the Chi-Square method to examine how different category variables relate to the **OUTCOME**.\n",
    "\n",
    "**Note: Finding relationships between categorical data through correlation is one of the pitfalls of data science.**\n",
    "\n",
    "##### Create our hypothesis\n",
    "\n",
    "H0 - There was no significant difference between the feature and the OUTCOME class.\n",
    "\n",
    "H1 - The checked feature differs significantly from the OUTCOME class.\n",
    "\n",
    "If the p-value is greater than 0.05, the feature had no significant effect on the OUTCOME class, and vice versa."
   ]
  },
  {
   "cell_type": "markdown",
   "id": "77fc5cdc",
   "metadata": {},
   "source": [
    "**Transforming our categorical data**"
   ]
  },
  {
   "cell_type": "code",
   "execution_count": 32,
   "id": "6675fc59",
   "metadata": {},
   "outputs": [],
   "source": [
    "age_group = {'65+':4, '40-64':3, '26-39':2 ,'16-25':1}\n",
    "de_group = {'30y+':4, '20-29y':3,'10-19y':2,'0-9y':1}\n",
    "edu_group = {'university':3, 'high school':2, 'none':1}\n",
    "income_group = {'upper class':4, 'working class':3,'middle class':2, 'poverty':1}\n",
    "vh_group = {'after 2015':2, 'before 2015':1}"
   ]
  },
  {
   "cell_type": "code",
   "execution_count": 33,
   "id": "beafcec8",
   "metadata": {},
   "outputs": [],
   "source": [
    "train['AGE'] = train['AGE'].map(age_group)\n",
    "\n",
    "train['DRIVING_EXPERIENCE'] = train['DRIVING_EXPERIENCE'].map(de_group)\n",
    "\n",
    "train['EDUCATION'] = train['EDUCATION'].map(edu_group)\n",
    "\n",
    "train['INCOME'] = train['INCOME'].map(income_group)\n",
    "\n",
    "train['VEHICLE_YEAR'] = train['VEHICLE_YEAR'].map(vh_group)"
   ]
  },
  {
   "cell_type": "code",
   "execution_count": 34,
   "id": "d02d9d3a",
   "metadata": {},
   "outputs": [],
   "source": [
    "from sklearn.preprocessing import LabelEncoder\n",
    "lb = LabelEncoder()"
   ]
  },
  {
   "cell_type": "code",
   "execution_count": 35,
   "id": "2cee6151",
   "metadata": {},
   "outputs": [],
   "source": [
    "for col in train.select_dtypes('O').columns:\n",
    "  train[col] = lb.fit_transform(train[col])"
   ]
  },
  {
   "cell_type": "code",
   "execution_count": 36,
   "id": "52be4ad1",
   "metadata": {},
   "outputs": [],
   "source": [
    "cat_col = ['AGE', 'GENDER', 'DRIVING_EXPERIENCE', 'EDUCATION', 'INCOME',\n",
    "       'VEHICLE_YEAR', 'TYPE_OF_VEHICLE','MARRIED', 'CHILDREN', 'VEHICLE_OWNERSHIP']"
   ]
  },
  {
   "cell_type": "code",
   "execution_count": 37,
   "id": "dd4ab3aa",
   "metadata": {},
   "outputs": [],
   "source": [
    "X = train[cat_col]\n",
    "y = train['OUTCOME']"
   ]
  },
  {
   "cell_type": "code",
   "execution_count": 38,
   "id": "67314e3f",
   "metadata": {},
   "outputs": [
    {
     "data": {
      "text/plain": [
       "(array([0.26995697, 5.4258679 , 4.36143081, 0.27696181, 0.0275135 ,\n",
       "        0.01314101, 0.63365396, 1.58646617, 0.17611496, 0.17157393]),\n",
       " array([0.60336064, 0.01984057, 0.03676142, 0.5986995 , 0.86825772,\n",
       "        0.90873503, 0.42601818, 0.20783175, 0.67473347, 0.67871677]))"
      ]
     },
     "execution_count": 38,
     "metadata": {},
     "output_type": "execute_result"
    }
   ],
   "source": [
    "f_score=chi2(X,y)   #returns f score and p value \n",
    "f_score"
   ]
  },
  {
   "cell_type": "code",
   "execution_count": 39,
   "id": "877aebf6",
   "metadata": {},
   "outputs": [],
   "source": [
    "p_value=pd.Series(f_score[1],index=X.columns)"
   ]
  },
  {
   "cell_type": "code",
   "execution_count": 40,
   "id": "cb291c8d",
   "metadata": {},
   "outputs": [],
   "source": [
    "p_value.sort_values(ascending=True,inplace=True)"
   ]
  },
  {
   "cell_type": "code",
   "execution_count": 41,
   "id": "3f90842e",
   "metadata": {},
   "outputs": [
    {
     "data": {
      "text/plain": [
       "GENDER                0.019841\n",
       "DRIVING_EXPERIENCE    0.036761\n",
       "MARRIED               0.207832\n",
       "TYPE_OF_VEHICLE       0.426018\n",
       "EDUCATION             0.598700\n",
       "AGE                   0.603361\n",
       "CHILDREN              0.674733\n",
       "VEHICLE_OWNERSHIP     0.678717\n",
       "INCOME                0.868258\n",
       "VEHICLE_YEAR          0.908735\n",
       "dtype: float64"
      ]
     },
     "execution_count": 41,
     "metadata": {},
     "output_type": "execute_result"
    }
   ],
   "source": [
    "p_value"
   ]
  },
  {
   "cell_type": "code",
   "execution_count": 42,
   "id": "cf4de367",
   "metadata": {},
   "outputs": [
    {
     "data": {
      "image/png": "[encoded data removed]",
      "text/plain": [
       "<Figure size 432x288 with 1 Axes>"
      ]
     },
     "metadata": {
      "needs_background": "light"
     },
     "output_type": "display_data"
    }
   ],
   "source": [
    "p_value.plot(kind=\"bar\")\n",
    "plt.xlabel(\"Features\",fontsize=20)\n",
    "plt.ylabel(\"p_values\",fontsize=20)\n",
    "plt.title(\"chi squared test base on p value\")\n",
    "plt.show()"
   ]
  },
  {
   "cell_type": "code",
   "execution_count": 43,
   "id": "dddfccbd",
   "metadata": {},
   "outputs": [],
   "source": [
    "p_value_features = p_value.reset_index().rename(columns={'index':'features', 0:'p_value'})"
   ]
  },
  {
   "cell_type": "code",
   "execution_count": 44,
   "id": "1cd24a0d",
   "metadata": {},
   "outputs": [],
   "source": [
    "level_of_significance = 0.05\n",
    "p_value_features['Decision'] = np.where(p_value_features['p_value'] < 0.05, 'Reject Null Hypothesis', 'Accept Null Hypothesis')"
   ]
  },
  {
   "cell_type": "code",
   "execution_count": 45,
   "id": "d61f464f",
   "metadata": {},
   "outputs": [
    {
     "data": {
      "text/html": [
       "<div>\n",
       "<style scoped>\n",
       "    .dataframe tbody tr th:only-of-type {\n",
       "        vertical-align: middle;\n",
       "    }\n",
       "\n",
       "    .dataframe tbody tr th {\n",
       "        vertical-align: top;\n",
       "    }\n",
       "\n",
       "    .dataframe thead th {\n",
       "        text-align: right;\n",
       "    }\n",
       "</style>\n",
       "<table border=\"1\" class=\"dataframe\">\n",
       "  <thead>\n",
       "    <tr style=\"text-align: right;\">\n",
       "      <th></th>\n",
       "      <th>features</th>\n",
       "      <th>p_value</th>\n",
       "      <th>Decision</th>\n",
       "    </tr>\n",
       "  </thead>\n",
       "  <tbody>\n",
       "    <tr>\n",
       "      <th>0</th>\n",
       "      <td>GENDER</td>\n",
       "      <td>0.019841</td>\n",
       "      <td>Reject Null Hypothesis</td>\n",
       "    </tr>\n",
       "    <tr>\n",
       "      <th>1</th>\n",
       "      <td>DRIVING_EXPERIENCE</td>\n",
       "      <td>0.036761</td>\n",
       "      <td>Reject Null Hypothesis</td>\n",
       "    </tr>\n",
       "    <tr>\n",
       "      <th>2</th>\n",
       "      <td>MARRIED</td>\n",
       "      <td>0.207832</td>\n",
       "      <td>Accept Null Hypothesis</td>\n",
       "    </tr>\n",
       "    <tr>\n",
       "      <th>3</th>\n",
       "      <td>TYPE_OF_VEHICLE</td>\n",
       "      <td>0.426018</td>\n",
       "      <td>Accept Null Hypothesis</td>\n",
       "    </tr>\n",
       "    <tr>\n",
       "      <th>4</th>\n",
       "      <td>EDUCATION</td>\n",
       "      <td>0.598700</td>\n",
       "      <td>Accept Null Hypothesis</td>\n",
       "    </tr>\n",
       "    <tr>\n",
       "      <th>5</th>\n",
       "      <td>AGE</td>\n",
       "      <td>0.603361</td>\n",
       "      <td>Accept Null Hypothesis</td>\n",
       "    </tr>\n",
       "    <tr>\n",
       "      <th>6</th>\n",
       "      <td>CHILDREN</td>\n",
       "      <td>0.674733</td>\n",
       "      <td>Accept Null Hypothesis</td>\n",
       "    </tr>\n",
       "    <tr>\n",
       "      <th>7</th>\n",
       "      <td>VEHICLE_OWNERSHIP</td>\n",
       "      <td>0.678717</td>\n",
       "      <td>Accept Null Hypothesis</td>\n",
       "    </tr>\n",
       "    <tr>\n",
       "      <th>8</th>\n",
       "      <td>INCOME</td>\n",
       "      <td>0.868258</td>\n",
       "      <td>Accept Null Hypothesis</td>\n",
       "    </tr>\n",
       "    <tr>\n",
       "      <th>9</th>\n",
       "      <td>VEHICLE_YEAR</td>\n",
       "      <td>0.908735</td>\n",
       "      <td>Accept Null Hypothesis</td>\n",
       "    </tr>\n",
       "  </tbody>\n",
       "</table>\n",
       "</div>"
      ],
      "text/plain": [
       "             features   p_value                Decision\n",
       "0              GENDER  0.019841  Reject Null Hypothesis\n",
       "1  DRIVING_EXPERIENCE  0.036761  Reject Null Hypothesis\n",
       "2             MARRIED  0.207832  Accept Null Hypothesis\n",
       "3     TYPE_OF_VEHICLE  0.426018  Accept Null Hypothesis\n",
       "4           EDUCATION  0.598700  Accept Null Hypothesis\n",
       "5                 AGE  0.603361  Accept Null Hypothesis\n",
       "6            CHILDREN  0.674733  Accept Null Hypothesis\n",
       "7   VEHICLE_OWNERSHIP  0.678717  Accept Null Hypothesis\n",
       "8              INCOME  0.868258  Accept Null Hypothesis\n",
       "9        VEHICLE_YEAR  0.908735  Accept Null Hypothesis"
      ]
     },
     "execution_count": 45,
     "metadata": {},
     "output_type": "execute_result"
    }
   ],
   "source": [
    "p_value_features"
   ]
  },
  {
   "cell_type": "markdown",
   "id": "0e62a2ec",
   "metadata": {},
   "source": [
    "**Conclusion**\n",
    "\n",
    "Only Gender and Driving Experience have a significant difference with the OUTCOME class and will be a good categorical predictor, according to our findings."
   ]
  },
  {
   "cell_type": "markdown",
   "id": "f034b9c4",
   "metadata": {},
   "source": [
    "### We can examine the relationship between some Independent features."
   ]
  },
  {
   "cell_type": "code",
   "execution_count": 46,
   "id": "549cdf6b",
   "metadata": {},
   "outputs": [],
   "source": [
    "def chi_check(var1, var2, significance_level=None):\n",
    "  tab_class = pd.crosstab(train[var1], train[var2], margins=True)\n",
    "  tab_values = np.array([tab_class.iloc[0].values,\n",
    "                  tab_class.iloc[1].values])\n",
    "  stat, p, dof, expected_value= chi2_contingency(tab_values)\n",
    "  print(\"p value: \" + str(p)) \n",
    "  if p <= significance_level: \n",
    "    print('Reject NULL HYPOTHESIS') \n",
    "  else:\n",
    "    print('ACCEPT NULL HYPOTHESIS')"
   ]
  },
  {
   "cell_type": "markdown",
   "id": "f1f4620d",
   "metadata": {},
   "source": [
    "**Check the association between Gender and Driving Experience**"
   ]
  },
  {
   "cell_type": "code",
   "execution_count": 47,
   "id": "c4ee1f60",
   "metadata": {},
   "outputs": [
    {
     "name": "stdout",
     "output_type": "stream",
     "text": [
      "p value: 0.27245514955949623\n",
      "ACCEPT NULL HYPOTHESIS\n"
     ]
    }
   ],
   "source": [
    "chi_check('GENDER', 'DRIVING_EXPERIENCE', 0.05)"
   ]
  }
 ],
 "metadata": {
  "kernelspec": {
   "display_name": "Python 3 (ipykernel)",
   "language": "python",
   "name": "python3"
  },
  "language_info": {
   "codemirror_mode": {
    "name": "ipython",
    "version": 3
   },
   "file_extension": ".py",
   "mimetype": "text/x-python",
   "name": "python",
   "nbconvert_exporter": "python",
   "pygments_lexer": "ipython3",
   "version": "3.9.12"
  }
 },
 "nbformat": 4,
 "nbformat_minor": 5
}
