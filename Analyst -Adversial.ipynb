{
 "cells": [
  {
   "cell_type": "code",
   "execution_count": 1,
   "id": "cd953375",
   "metadata": {},
   "outputs": [],
   "source": [
    "import pandas as pd\n",
    "import numpy as np"
   ]
  },
  {
   "cell_type": "code",
   "execution_count": 14,
   "id": "a6b77837",
   "metadata": {},
   "outputs": [],
   "source": [
    "train = pd.read_csv('train.csv')\n",
    "test = pd.read_csv('test.csv')\n",
    "sub = pd.read_csv('submission.csv')"
   ]
  },
  {
   "cell_type": "code",
   "execution_count": 15,
   "id": "cb851967",
   "metadata": {},
   "outputs": [
    {
     "data": {
      "text/html": [
       "<div>\n",
       "<style scoped>\n",
       "    .dataframe tbody tr th:only-of-type {\n",
       "        vertical-align: middle;\n",
       "    }\n",
       "\n",
       "    .dataframe tbody tr th {\n",
       "        vertical-align: top;\n",
       "    }\n",
       "\n",
       "    .dataframe thead th {\n",
       "        text-align: right;\n",
       "    }\n",
       "</style>\n",
       "<table border=\"1\" class=\"dataframe\">\n",
       "  <thead>\n",
       "    <tr style=\"text-align: right;\">\n",
       "      <th></th>\n",
       "      <th>ID</th>\n",
       "      <th>AGE</th>\n",
       "      <th>GENDER</th>\n",
       "      <th>DRIVING_EXPERIENCE</th>\n",
       "      <th>EDUCATION</th>\n",
       "      <th>INCOME</th>\n",
       "      <th>CREDIT_SCORE</th>\n",
       "      <th>VEHICLE_OWNERSHIP</th>\n",
       "      <th>VEHICLE_YEAR</th>\n",
       "      <th>MARRIED</th>\n",
       "      <th>CHILDREN</th>\n",
       "      <th>POSTAL_CODE</th>\n",
       "      <th>ANNUAL_MILEAGE</th>\n",
       "      <th>SPEEDING_VIOLATIONS</th>\n",
       "      <th>DUIS</th>\n",
       "      <th>PAST_ACCIDENTS</th>\n",
       "      <th>OUTCOME</th>\n",
       "      <th>TYPE_OF_VEHICLE</th>\n",
       "    </tr>\n",
       "  </thead>\n",
       "  <tbody>\n",
       "    <tr>\n",
       "      <th>0</th>\n",
       "      <td>816393</td>\n",
       "      <td>40-64</td>\n",
       "      <td>female</td>\n",
       "      <td>20-29y</td>\n",
       "      <td>university</td>\n",
       "      <td>middle class</td>\n",
       "      <td>0.638050</td>\n",
       "      <td>0.0</td>\n",
       "      <td>after 2015</td>\n",
       "      <td>0.0</td>\n",
       "      <td>0.0</td>\n",
       "      <td>37379</td>\n",
       "      <td>11000.0</td>\n",
       "      <td>0</td>\n",
       "      <td>0</td>\n",
       "      <td>0</td>\n",
       "      <td>0.0</td>\n",
       "      <td>Sports Car</td>\n",
       "    </tr>\n",
       "    <tr>\n",
       "      <th>1</th>\n",
       "      <td>251762</td>\n",
       "      <td>26-39</td>\n",
       "      <td>male</td>\n",
       "      <td>20-29y</td>\n",
       "      <td>high school</td>\n",
       "      <td>middle class</td>\n",
       "      <td>0.475741</td>\n",
       "      <td>1.0</td>\n",
       "      <td>before 2015</td>\n",
       "      <td>1.0</td>\n",
       "      <td>0.0</td>\n",
       "      <td>10238</td>\n",
       "      <td>9000.0</td>\n",
       "      <td>0</td>\n",
       "      <td>0</td>\n",
       "      <td>0</td>\n",
       "      <td>1.0</td>\n",
       "      <td>HatchBack</td>\n",
       "    </tr>\n",
       "    <tr>\n",
       "      <th>2</th>\n",
       "      <td>481952</td>\n",
       "      <td>40-64</td>\n",
       "      <td>male</td>\n",
       "      <td>20-29y</td>\n",
       "      <td>none</td>\n",
       "      <td>middle class</td>\n",
       "      <td>0.839817</td>\n",
       "      <td>1.0</td>\n",
       "      <td>before 2015</td>\n",
       "      <td>1.0</td>\n",
       "      <td>1.0</td>\n",
       "      <td>10238</td>\n",
       "      <td>12000.0</td>\n",
       "      <td>0</td>\n",
       "      <td>0</td>\n",
       "      <td>0</td>\n",
       "      <td>1.0</td>\n",
       "      <td>Sedan</td>\n",
       "    </tr>\n",
       "    <tr>\n",
       "      <th>3</th>\n",
       "      <td>3506</td>\n",
       "      <td>40-64</td>\n",
       "      <td>male</td>\n",
       "      <td>20-29y</td>\n",
       "      <td>high school</td>\n",
       "      <td>upper class</td>\n",
       "      <td>0.682527</td>\n",
       "      <td>1.0</td>\n",
       "      <td>before 2015</td>\n",
       "      <td>0.0</td>\n",
       "      <td>1.0</td>\n",
       "      <td>92099</td>\n",
       "      <td>6000.0</td>\n",
       "      <td>1</td>\n",
       "      <td>0</td>\n",
       "      <td>0</td>\n",
       "      <td>1.0</td>\n",
       "      <td>Sedan</td>\n",
       "    </tr>\n",
       "    <tr>\n",
       "      <th>4</th>\n",
       "      <td>498013</td>\n",
       "      <td>40-64</td>\n",
       "      <td>female</td>\n",
       "      <td>20-29y</td>\n",
       "      <td>none</td>\n",
       "      <td>working class</td>\n",
       "      <td>0.572184</td>\n",
       "      <td>1.0</td>\n",
       "      <td>after 2015</td>\n",
       "      <td>1.0</td>\n",
       "      <td>1.0</td>\n",
       "      <td>32122</td>\n",
       "      <td>15000.0</td>\n",
       "      <td>0</td>\n",
       "      <td>0</td>\n",
       "      <td>1</td>\n",
       "      <td>0.0</td>\n",
       "      <td>Sedan</td>\n",
       "    </tr>\n",
       "  </tbody>\n",
       "</table>\n",
       "</div>"
      ],
      "text/plain": [
       "       ID    AGE  GENDER DRIVING_EXPERIENCE    EDUCATION         INCOME  \\\n",
       "0  816393  40-64  female             20-29y   university   middle class   \n",
       "1  251762  26-39    male             20-29y  high school   middle class   \n",
       "2  481952  40-64    male             20-29y         none   middle class   \n",
       "3    3506  40-64    male             20-29y  high school    upper class   \n",
       "4  498013  40-64  female             20-29y         none  working class   \n",
       "\n",
       "   CREDIT_SCORE  VEHICLE_OWNERSHIP VEHICLE_YEAR  MARRIED  CHILDREN  \\\n",
       "0      0.638050                0.0   after 2015      0.0       0.0   \n",
       "1      0.475741                1.0  before 2015      1.0       0.0   \n",
       "2      0.839817                1.0  before 2015      1.0       1.0   \n",
       "3      0.682527                1.0  before 2015      0.0       1.0   \n",
       "4      0.572184                1.0   after 2015      1.0       1.0   \n",
       "\n",
       "   POSTAL_CODE  ANNUAL_MILEAGE  SPEEDING_VIOLATIONS  DUIS  PAST_ACCIDENTS  \\\n",
       "0        37379         11000.0                    0     0               0   \n",
       "1        10238          9000.0                    0     0               0   \n",
       "2        10238         12000.0                    0     0               0   \n",
       "3        92099          6000.0                    1     0               0   \n",
       "4        32122         15000.0                    0     0               1   \n",
       "\n",
       "   OUTCOME TYPE_OF_VEHICLE  \n",
       "0      0.0      Sports Car  \n",
       "1      1.0       HatchBack  \n",
       "2      1.0           Sedan  \n",
       "3      1.0           Sedan  \n",
       "4      0.0           Sedan  "
      ]
     },
     "execution_count": 15,
     "metadata": {},
     "output_type": "execute_result"
    }
   ],
   "source": [
    "train.head()"
   ]
  },
  {
   "cell_type": "code",
   "execution_count": 16,
   "id": "72713570",
   "metadata": {},
   "outputs": [
    {
     "data": {
      "text/html": [
       "<div>\n",
       "<style scoped>\n",
       "    .dataframe tbody tr th:only-of-type {\n",
       "        vertical-align: middle;\n",
       "    }\n",
       "\n",
       "    .dataframe tbody tr th {\n",
       "        vertical-align: top;\n",
       "    }\n",
       "\n",
       "    .dataframe thead th {\n",
       "        text-align: right;\n",
       "    }\n",
       "</style>\n",
       "<table border=\"1\" class=\"dataframe\">\n",
       "  <thead>\n",
       "    <tr style=\"text-align: right;\">\n",
       "      <th></th>\n",
       "      <th>ID</th>\n",
       "      <th>AGE</th>\n",
       "      <th>GENDER</th>\n",
       "      <th>DRIVING_EXPERIENCE</th>\n",
       "      <th>EDUCATION</th>\n",
       "      <th>INCOME</th>\n",
       "      <th>CREDIT_SCORE</th>\n",
       "      <th>VEHICLE_OWNERSHIP</th>\n",
       "      <th>VEHICLE_YEAR</th>\n",
       "      <th>MARRIED</th>\n",
       "      <th>CHILDREN</th>\n",
       "      <th>POSTAL_CODE</th>\n",
       "      <th>ANNUAL_MILEAGE</th>\n",
       "      <th>SPEEDING_VIOLATIONS</th>\n",
       "      <th>DUIS</th>\n",
       "      <th>PAST_ACCIDENTS</th>\n",
       "      <th>TYPE_OF_VEHICLE</th>\n",
       "    </tr>\n",
       "  </thead>\n",
       "  <tbody>\n",
       "    <tr>\n",
       "      <th>0</th>\n",
       "      <td>352928</td>\n",
       "      <td>40-64</td>\n",
       "      <td>male</td>\n",
       "      <td>10-19y</td>\n",
       "      <td>none</td>\n",
       "      <td>working class</td>\n",
       "      <td>0.814707</td>\n",
       "      <td>1.0</td>\n",
       "      <td>after 2015</td>\n",
       "      <td>0.0</td>\n",
       "      <td>1.0</td>\n",
       "      <td>10238</td>\n",
       "      <td>10000.0</td>\n",
       "      <td>0</td>\n",
       "      <td>0</td>\n",
       "      <td>0</td>\n",
       "      <td>HatchBack</td>\n",
       "    </tr>\n",
       "    <tr>\n",
       "      <th>1</th>\n",
       "      <td>38579</td>\n",
       "      <td>26-39</td>\n",
       "      <td>female</td>\n",
       "      <td>20-29y</td>\n",
       "      <td>high school</td>\n",
       "      <td>upper class</td>\n",
       "      <td>0.344051</td>\n",
       "      <td>1.0</td>\n",
       "      <td>before 2015</td>\n",
       "      <td>0.0</td>\n",
       "      <td>0.0</td>\n",
       "      <td>34073</td>\n",
       "      <td>13000.0</td>\n",
       "      <td>0</td>\n",
       "      <td>0</td>\n",
       "      <td>0</td>\n",
       "      <td>Sedan</td>\n",
       "    </tr>\n",
       "    <tr>\n",
       "      <th>2</th>\n",
       "      <td>504022</td>\n",
       "      <td>40-64</td>\n",
       "      <td>male</td>\n",
       "      <td>10-19y</td>\n",
       "      <td>none</td>\n",
       "      <td>upper class</td>\n",
       "      <td>0.620691</td>\n",
       "      <td>0.0</td>\n",
       "      <td>after 2015</td>\n",
       "      <td>1.0</td>\n",
       "      <td>0.0</td>\n",
       "      <td>10238</td>\n",
       "      <td>12000.0</td>\n",
       "      <td>0</td>\n",
       "      <td>0</td>\n",
       "      <td>0</td>\n",
       "      <td>SUV</td>\n",
       "    </tr>\n",
       "    <tr>\n",
       "      <th>3</th>\n",
       "      <td>202404</td>\n",
       "      <td>26-39</td>\n",
       "      <td>male</td>\n",
       "      <td>20-29y</td>\n",
       "      <td>high school</td>\n",
       "      <td>upper class</td>\n",
       "      <td>0.689658</td>\n",
       "      <td>1.0</td>\n",
       "      <td>after 2015</td>\n",
       "      <td>1.0</td>\n",
       "      <td>1.0</td>\n",
       "      <td>10238</td>\n",
       "      <td>16000.0</td>\n",
       "      <td>1</td>\n",
       "      <td>0</td>\n",
       "      <td>0</td>\n",
       "      <td>SUV</td>\n",
       "    </tr>\n",
       "    <tr>\n",
       "      <th>4</th>\n",
       "      <td>527913</td>\n",
       "      <td>65+</td>\n",
       "      <td>male</td>\n",
       "      <td>10-19y</td>\n",
       "      <td>none</td>\n",
       "      <td>middle class</td>\n",
       "      <td>0.755666</td>\n",
       "      <td>0.0</td>\n",
       "      <td>after 2015</td>\n",
       "      <td>0.0</td>\n",
       "      <td>1.0</td>\n",
       "      <td>92101</td>\n",
       "      <td>14000.0</td>\n",
       "      <td>2</td>\n",
       "      <td>0</td>\n",
       "      <td>0</td>\n",
       "      <td>HatchBack</td>\n",
       "    </tr>\n",
       "  </tbody>\n",
       "</table>\n",
       "</div>"
      ],
      "text/plain": [
       "       ID    AGE  GENDER DRIVING_EXPERIENCE    EDUCATION         INCOME  \\\n",
       "0  352928  40-64    male             10-19y         none  working class   \n",
       "1   38579  26-39  female             20-29y  high school    upper class   \n",
       "2  504022  40-64    male             10-19y         none    upper class   \n",
       "3  202404  26-39    male             20-29y  high school    upper class   \n",
       "4  527913    65+    male             10-19y         none   middle class   \n",
       "\n",
       "   CREDIT_SCORE  VEHICLE_OWNERSHIP VEHICLE_YEAR  MARRIED  CHILDREN  \\\n",
       "0      0.814707                1.0   after 2015      0.0       1.0   \n",
       "1      0.344051                1.0  before 2015      0.0       0.0   \n",
       "2      0.620691                0.0   after 2015      1.0       0.0   \n",
       "3      0.689658                1.0   after 2015      1.0       1.0   \n",
       "4      0.755666                0.0   after 2015      0.0       1.0   \n",
       "\n",
       "   POSTAL_CODE  ANNUAL_MILEAGE  SPEEDING_VIOLATIONS  DUIS  PAST_ACCIDENTS  \\\n",
       "0        10238         10000.0                    0     0               0   \n",
       "1        34073         13000.0                    0     0               0   \n",
       "2        10238         12000.0                    0     0               0   \n",
       "3        10238         16000.0                    1     0               0   \n",
       "4        92101         14000.0                    2     0               0   \n",
       "\n",
       "  TYPE_OF_VEHICLE  \n",
       "0       HatchBack  \n",
       "1           Sedan  \n",
       "2             SUV  \n",
       "3             SUV  \n",
       "4       HatchBack  "
      ]
     },
     "execution_count": 16,
     "metadata": {},
     "output_type": "execute_result"
    }
   ],
   "source": [
    "test.head()"
   ]
  },
  {
   "cell_type": "code",
   "execution_count": 17,
   "id": "905682e7",
   "metadata": {},
   "outputs": [
    {
     "data": {
      "text/plain": [
       "0.0    60622\n",
       "1.0    44378\n",
       "Name: OUTCOME, dtype: int64"
      ]
     },
     "execution_count": 17,
     "metadata": {},
     "output_type": "execute_result"
    }
   ],
   "source": [
    "train['OUTCOME'].value_counts()"
   ]
  },
  {
   "cell_type": "code",
   "execution_count": 18,
   "id": "ff135d92",
   "metadata": {},
   "outputs": [
    {
     "name": "stdout",
     "output_type": "stream",
     "text": [
      "(105000, 18)\n",
      "(45000, 17)\n"
     ]
    }
   ],
   "source": [
    "print(train.shape)\n",
    "print(test.shape)"
   ]
  },
  {
   "cell_type": "code",
   "execution_count": 19,
   "id": "acd00e8a",
   "metadata": {},
   "outputs": [
    {
     "name": "stdout",
     "output_type": "stream",
     "text": [
      "<class 'pandas.core.frame.DataFrame'>\n",
      "RangeIndex: 105000 entries, 0 to 104999\n",
      "Data columns (total 18 columns):\n",
      " #   Column               Non-Null Count   Dtype  \n",
      "---  ------               --------------   -----  \n",
      " 0   ID                   105000 non-null  int64  \n",
      " 1   AGE                  105000 non-null  object \n",
      " 2   GENDER               105000 non-null  object \n",
      " 3   DRIVING_EXPERIENCE   105000 non-null  object \n",
      " 4   EDUCATION            105000 non-null  object \n",
      " 5   INCOME               105000 non-null  object \n",
      " 6   CREDIT_SCORE         105000 non-null  float64\n",
      " 7   VEHICLE_OWNERSHIP    105000 non-null  float64\n",
      " 8   VEHICLE_YEAR         105000 non-null  object \n",
      " 9   MARRIED              105000 non-null  float64\n",
      " 10  CHILDREN             105000 non-null  float64\n",
      " 11  POSTAL_CODE          105000 non-null  int64  \n",
      " 12  ANNUAL_MILEAGE       105000 non-null  float64\n",
      " 13  SPEEDING_VIOLATIONS  105000 non-null  int64  \n",
      " 14  DUIS                 105000 non-null  int64  \n",
      " 15  PAST_ACCIDENTS       105000 non-null  int64  \n",
      " 16  OUTCOME              105000 non-null  float64\n",
      " 17  TYPE_OF_VEHICLE      105000 non-null  object \n",
      "dtypes: float64(6), int64(5), object(7)\n",
      "memory usage: 14.4+ MB\n"
     ]
    }
   ],
   "source": [
    "train.info()"
   ]
  },
  {
   "cell_type": "code",
   "execution_count": 20,
   "id": "daa8386d",
   "metadata": {},
   "outputs": [
    {
     "name": "stdout",
     "output_type": "stream",
     "text": [
      "<class 'pandas.core.frame.DataFrame'>\n",
      "RangeIndex: 45000 entries, 0 to 44999\n",
      "Data columns (total 17 columns):\n",
      " #   Column               Non-Null Count  Dtype  \n",
      "---  ------               --------------  -----  \n",
      " 0   ID                   45000 non-null  int64  \n",
      " 1   AGE                  45000 non-null  object \n",
      " 2   GENDER               45000 non-null  object \n",
      " 3   DRIVING_EXPERIENCE   45000 non-null  object \n",
      " 4   EDUCATION            45000 non-null  object \n",
      " 5   INCOME               45000 non-null  object \n",
      " 6   CREDIT_SCORE         45000 non-null  float64\n",
      " 7   VEHICLE_OWNERSHIP    45000 non-null  float64\n",
      " 8   VEHICLE_YEAR         45000 non-null  object \n",
      " 9   MARRIED              45000 non-null  float64\n",
      " 10  CHILDREN             45000 non-null  float64\n",
      " 11  POSTAL_CODE          45000 non-null  int64  \n",
      " 12  ANNUAL_MILEAGE       45000 non-null  float64\n",
      " 13  SPEEDING_VIOLATIONS  45000 non-null  int64  \n",
      " 14  DUIS                 45000 non-null  int64  \n",
      " 15  PAST_ACCIDENTS       45000 non-null  int64  \n",
      " 16  TYPE_OF_VEHICLE      45000 non-null  object \n",
      "dtypes: float64(5), int64(5), object(7)\n",
      "memory usage: 5.8+ MB\n"
     ]
    }
   ],
   "source": [
    "test.info()"
   ]
  },
  {
   "cell_type": "code",
   "execution_count": 21,
   "id": "ab334c66",
   "metadata": {},
   "outputs": [],
   "source": [
    "from sklearn.preprocessing import LabelEncoder\n",
    "lb = LabelEncoder()"
   ]
  },
  {
   "cell_type": "code",
   "execution_count": 22,
   "id": "d2faede7",
   "metadata": {},
   "outputs": [],
   "source": [
    "for col in train.select_dtypes('O').columns:\n",
    "  train[col] = lb.fit_transform(train[col])\n",
    "  test[col] = lb.fit_transform(test[col])"
   ]
  },
  {
   "cell_type": "code",
   "execution_count": 23,
   "id": "0076a457",
   "metadata": {},
   "outputs": [],
   "source": [
    "from sklearn.model_selection import cross_val_predict\n",
    "from sklearn.metrics import roc_auc_score"
   ]
  },
  {
   "cell_type": "code",
   "execution_count": 24,
   "id": "768f8878",
   "metadata": {},
   "outputs": [],
   "source": [
    "train = train.drop('OUTCOME', axis=1)\n",
    "#test = test.drop('ID', axis=1)"
   ]
  },
  {
   "cell_type": "code",
   "execution_count": 25,
   "id": "96b08df5",
   "metadata": {},
   "outputs": [
    {
     "name": "stderr",
     "output_type": "stream",
     "text": [
      "/var/folders/sp/w44kr8c57753bl4ch1r09rzc0000gn/T/ipykernel_14487/3820161732.py:1: FutureWarning: The frame.append method is deprecated and will be removed from pandas in a future version. Use pandas.concat instead.\n",
      "  X = train.append(test)\n"
     ]
    }
   ],
   "source": [
    "X = train.append(test)\n",
    "y = [0] * len(train) + [1] * len(test)"
   ]
  },
  {
   "cell_type": "code",
   "execution_count": 26,
   "id": "bbf2d3da",
   "metadata": {},
   "outputs": [],
   "source": [
    "from sklearn.ensemble import RandomForestClassifier"
   ]
  },
  {
   "cell_type": "code",
   "execution_count": 27,
   "id": "9e243e11",
   "metadata": {},
   "outputs": [],
   "source": [
    "model = RandomForestClassifier()"
   ]
  },
  {
   "cell_type": "code",
   "execution_count": 28,
   "id": "3ea600a3",
   "metadata": {},
   "outputs": [],
   "source": [
    "cv_preds = cross_val_predict(model, X, y, cv=5, n_jobs=-1, method='predict_proba')"
   ]
  },
  {
   "cell_type": "code",
   "execution_count": 29,
   "id": "f8e23bcb",
   "metadata": {},
   "outputs": [
    {
     "name": "stdout",
     "output_type": "stream",
     "text": [
      "0.4987741665608466\n"
     ]
    }
   ],
   "source": [
    "print(roc_auc_score(y_true=y, y_score=cv_preds[:,1]))"
   ]
  },
  {
   "cell_type": "code",
   "execution_count": 30,
   "id": "55c09fad",
   "metadata": {},
   "outputs": [
    {
     "name": "stdout",
     "output_type": "stream",
     "text": [
      "CREDIT_SCORE : 0.2093\n",
      "ID         : 0.2089\n",
      "ANNUAL_MILEAGE : 0.0979\n",
      "POSTAL_CODE : 0.0619\n",
      "TYPE_OF_VEHICLE : 0.0469\n",
      "DRIVING_EXPERIENCE : 0.0464\n",
      "AGE        : 0.0452\n",
      "SPEEDING_VIOLATIONS : 0.0441\n",
      "INCOME     : 0.0438\n",
      "EDUCATION  : 0.0369\n",
      "PAST_ACCIDENTS : 0.0369\n",
      "VEHICLE_YEAR : 0.0239\n",
      "MARRIED    : 0.0238\n",
      "GENDER     : 0.0222\n",
      "CHILDREN   : 0.0209\n",
      "VEHICLE_OWNERSHIP : 0.0171\n",
      "DUIS       : 0.0137\n"
     ]
    }
   ],
   "source": [
    "model.fit(X, y)\n",
    "ranks = sorted(list(zip(X.columns, model.feature_importances_)),\n",
    "               key=lambda x: x[1], reverse=True)\n",
    "for feature, score in ranks:\n",
    "    print(f\"{feature:10} : {score:0.4f}\")"
   ]
  },
  {
   "cell_type": "code",
   "execution_count": null,
   "id": "dfff129a",
   "metadata": {},
   "outputs": [],
   "source": []
  }
 ],
 "metadata": {
  "kernelspec": {
   "display_name": "Python 3 (ipykernel)",
   "language": "python",
   "name": "python3"
  },
  "language_info": {
   "codemirror_mode": {
    "name": "ipython",
    "version": 3
   },
   "file_extension": ".py",
   "mimetype": "text/x-python",
   "name": "python",
   "nbconvert_exporter": "python",
   "pygments_lexer": "ipython3",
   "version": "3.9.12"
  }
 },
 "nbformat": 4,
 "nbformat_minor": 5
}
