{
 "cells": [
  {
   "cell_type": "markdown",
   "id": "d0e806cd",
   "metadata": {},
   "source": [
    "### data analyis code file\n",
    "\n",
    "link - https://github.com/nasirudeenraheem/Analytics-Olympiad-2022/blob/main/Data%20Analysis_Part-1.ipynb"
   ]
  },
  {
   "cell_type": "code",
   "execution_count": 15,
   "id": "cd953375",
   "metadata": {
    "id": "cd953375"
   },
   "outputs": [],
   "source": [
    "import pandas as pd\n",
    "import numpy as np"
   ]
  },
  {
   "cell_type": "code",
   "execution_count": 16,
   "id": "QoWd-uw09jnV",
   "metadata": {
    "id": "QoWd-uw09jnV"
   },
   "outputs": [],
   "source": [
    "#from lightgbm import LGBMClassifier\n",
    "from xgboost import XGBClassifier\n",
    "from catboost import CatBoostClassifier"
   ]
  },
  {
   "cell_type": "code",
   "execution_count": 17,
   "id": "a6b77837",
   "metadata": {
    "id": "a6b77837"
   },
   "outputs": [],
   "source": [
    "train = pd.read_csv('train.csv')\n",
    "test = pd.read_csv('test.csv')\n",
    "sub = pd.read_csv('submission.csv')"
   ]
  },
  {
   "cell_type": "code",
   "execution_count": 18,
   "id": "cb851967",
   "metadata": {
    "colab": {
     "base_uri": "https://localhost:8080/",
     "height": 353
    },
    "id": "cb851967",
    "outputId": "fdd64fd1-742d-4d58-d24e-e5c4b091f95d"
   },
   "outputs": [
    {
     "data": {
      "text/html": [
       "<div>\n",
       "<style scoped>\n",
       "    .dataframe tbody tr th:only-of-type {\n",
       "        vertical-align: middle;\n",
       "    }\n",
       "\n",
       "    .dataframe tbody tr th {\n",
       "        vertical-align: top;\n",
       "    }\n",
       "\n",
       "    .dataframe thead th {\n",
       "        text-align: right;\n",
       "    }\n",
       "</style>\n",
       "<table border=\"1\" class=\"dataframe\">\n",
       "  <thead>\n",
       "    <tr style=\"text-align: right;\">\n",
       "      <th></th>\n",
       "      <th>ID</th>\n",
       "      <th>AGE</th>\n",
       "      <th>GENDER</th>\n",
       "      <th>DRIVING_EXPERIENCE</th>\n",
       "      <th>EDUCATION</th>\n",
       "      <th>INCOME</th>\n",
       "      <th>CREDIT_SCORE</th>\n",
       "      <th>VEHICLE_OWNERSHIP</th>\n",
       "      <th>VEHICLE_YEAR</th>\n",
       "      <th>MARRIED</th>\n",
       "      <th>CHILDREN</th>\n",
       "      <th>POSTAL_CODE</th>\n",
       "      <th>ANNUAL_MILEAGE</th>\n",
       "      <th>SPEEDING_VIOLATIONS</th>\n",
       "      <th>DUIS</th>\n",
       "      <th>PAST_ACCIDENTS</th>\n",
       "      <th>OUTCOME</th>\n",
       "      <th>TYPE_OF_VEHICLE</th>\n",
       "    </tr>\n",
       "  </thead>\n",
       "  <tbody>\n",
       "    <tr>\n",
       "      <th>0</th>\n",
       "      <td>816393</td>\n",
       "      <td>40-64</td>\n",
       "      <td>female</td>\n",
       "      <td>20-29y</td>\n",
       "      <td>university</td>\n",
       "      <td>middle class</td>\n",
       "      <td>0.638050</td>\n",
       "      <td>0.0</td>\n",
       "      <td>after 2015</td>\n",
       "      <td>0.0</td>\n",
       "      <td>0.0</td>\n",
       "      <td>37379</td>\n",
       "      <td>11000.0</td>\n",
       "      <td>0</td>\n",
       "      <td>0</td>\n",
       "      <td>0</td>\n",
       "      <td>0.0</td>\n",
       "      <td>Sports Car</td>\n",
       "    </tr>\n",
       "    <tr>\n",
       "      <th>1</th>\n",
       "      <td>251762</td>\n",
       "      <td>26-39</td>\n",
       "      <td>male</td>\n",
       "      <td>20-29y</td>\n",
       "      <td>high school</td>\n",
       "      <td>middle class</td>\n",
       "      <td>0.475741</td>\n",
       "      <td>1.0</td>\n",
       "      <td>before 2015</td>\n",
       "      <td>1.0</td>\n",
       "      <td>0.0</td>\n",
       "      <td>10238</td>\n",
       "      <td>9000.0</td>\n",
       "      <td>0</td>\n",
       "      <td>0</td>\n",
       "      <td>0</td>\n",
       "      <td>1.0</td>\n",
       "      <td>HatchBack</td>\n",
       "    </tr>\n",
       "    <tr>\n",
       "      <th>2</th>\n",
       "      <td>481952</td>\n",
       "      <td>40-64</td>\n",
       "      <td>male</td>\n",
       "      <td>20-29y</td>\n",
       "      <td>none</td>\n",
       "      <td>middle class</td>\n",
       "      <td>0.839817</td>\n",
       "      <td>1.0</td>\n",
       "      <td>before 2015</td>\n",
       "      <td>1.0</td>\n",
       "      <td>1.0</td>\n",
       "      <td>10238</td>\n",
       "      <td>12000.0</td>\n",
       "      <td>0</td>\n",
       "      <td>0</td>\n",
       "      <td>0</td>\n",
       "      <td>1.0</td>\n",
       "      <td>Sedan</td>\n",
       "    </tr>\n",
       "    <tr>\n",
       "      <th>3</th>\n",
       "      <td>3506</td>\n",
       "      <td>40-64</td>\n",
       "      <td>male</td>\n",
       "      <td>20-29y</td>\n",
       "      <td>high school</td>\n",
       "      <td>upper class</td>\n",
       "      <td>0.682527</td>\n",
       "      <td>1.0</td>\n",
       "      <td>before 2015</td>\n",
       "      <td>0.0</td>\n",
       "      <td>1.0</td>\n",
       "      <td>92099</td>\n",
       "      <td>6000.0</td>\n",
       "      <td>1</td>\n",
       "      <td>0</td>\n",
       "      <td>0</td>\n",
       "      <td>1.0</td>\n",
       "      <td>Sedan</td>\n",
       "    </tr>\n",
       "    <tr>\n",
       "      <th>4</th>\n",
       "      <td>498013</td>\n",
       "      <td>40-64</td>\n",
       "      <td>female</td>\n",
       "      <td>20-29y</td>\n",
       "      <td>none</td>\n",
       "      <td>working class</td>\n",
       "      <td>0.572184</td>\n",
       "      <td>1.0</td>\n",
       "      <td>after 2015</td>\n",
       "      <td>1.0</td>\n",
       "      <td>1.0</td>\n",
       "      <td>32122</td>\n",
       "      <td>15000.0</td>\n",
       "      <td>0</td>\n",
       "      <td>0</td>\n",
       "      <td>1</td>\n",
       "      <td>0.0</td>\n",
       "      <td>Sedan</td>\n",
       "    </tr>\n",
       "  </tbody>\n",
       "</table>\n",
       "</div>"
      ],
      "text/plain": [
       "       ID    AGE  GENDER DRIVING_EXPERIENCE    EDUCATION         INCOME  \\\n",
       "0  816393  40-64  female             20-29y   university   middle class   \n",
       "1  251762  26-39    male             20-29y  high school   middle class   \n",
       "2  481952  40-64    male             20-29y         none   middle class   \n",
       "3    3506  40-64    male             20-29y  high school    upper class   \n",
       "4  498013  40-64  female             20-29y         none  working class   \n",
       "\n",
       "   CREDIT_SCORE  VEHICLE_OWNERSHIP VEHICLE_YEAR  MARRIED  CHILDREN  \\\n",
       "0      0.638050                0.0   after 2015      0.0       0.0   \n",
       "1      0.475741                1.0  before 2015      1.0       0.0   \n",
       "2      0.839817                1.0  before 2015      1.0       1.0   \n",
       "3      0.682527                1.0  before 2015      0.0       1.0   \n",
       "4      0.572184                1.0   after 2015      1.0       1.0   \n",
       "\n",
       "   POSTAL_CODE  ANNUAL_MILEAGE  SPEEDING_VIOLATIONS  DUIS  PAST_ACCIDENTS  \\\n",
       "0        37379         11000.0                    0     0               0   \n",
       "1        10238          9000.0                    0     0               0   \n",
       "2        10238         12000.0                    0     0               0   \n",
       "3        92099          6000.0                    1     0               0   \n",
       "4        32122         15000.0                    0     0               1   \n",
       "\n",
       "   OUTCOME TYPE_OF_VEHICLE  \n",
       "0      0.0      Sports Car  \n",
       "1      1.0       HatchBack  \n",
       "2      1.0           Sedan  \n",
       "3      1.0           Sedan  \n",
       "4      0.0           Sedan  "
      ]
     },
     "execution_count": 18,
     "metadata": {},
     "output_type": "execute_result"
    }
   ],
   "source": [
    "train.head()"
   ]
  },
  {
   "cell_type": "code",
   "execution_count": 19,
   "id": "905682e7",
   "metadata": {
    "colab": {
     "base_uri": "https://localhost:8080/"
    },
    "id": "905682e7",
    "outputId": "9c6ff32d-c88a-4413-b3c5-d4d5d9cc1a77"
   },
   "outputs": [
    {
     "data": {
      "text/plain": [
       "0.0    0.577352\n",
       "1.0    0.422648\n",
       "Name: OUTCOME, dtype: float64"
      ]
     },
     "execution_count": 19,
     "metadata": {},
     "output_type": "execute_result"
    }
   ],
   "source": [
    "train['OUTCOME'].value_counts(normalize=True)"
   ]
  },
  {
   "cell_type": "code",
   "execution_count": 20,
   "id": "ff135d92",
   "metadata": {
    "colab": {
     "base_uri": "https://localhost:8080/"
    },
    "id": "ff135d92",
    "outputId": "012ab642-e395-4b6b-9fb3-2bf4e81612a6"
   },
   "outputs": [
    {
     "name": "stdout",
     "output_type": "stream",
     "text": [
      "(105000, 18)\n",
      "(45000, 17)\n"
     ]
    }
   ],
   "source": [
    "print(train.shape)\n",
    "print(test.shape)"
   ]
  },
  {
   "cell_type": "code",
   "execution_count": 21,
   "id": "acd00e8a",
   "metadata": {
    "colab": {
     "base_uri": "https://localhost:8080/"
    },
    "id": "acd00e8a",
    "outputId": "cd72c594-466f-4775-cc5c-48fbcdea899e"
   },
   "outputs": [
    {
     "name": "stdout",
     "output_type": "stream",
     "text": [
      "<class 'pandas.core.frame.DataFrame'>\n",
      "RangeIndex: 105000 entries, 0 to 104999\n",
      "Data columns (total 18 columns):\n",
      " #   Column               Non-Null Count   Dtype  \n",
      "---  ------               --------------   -----  \n",
      " 0   ID                   105000 non-null  int64  \n",
      " 1   AGE                  105000 non-null  object \n",
      " 2   GENDER               105000 non-null  object \n",
      " 3   DRIVING_EXPERIENCE   105000 non-null  object \n",
      " 4   EDUCATION            105000 non-null  object \n",
      " 5   INCOME               105000 non-null  object \n",
      " 6   CREDIT_SCORE         105000 non-null  float64\n",
      " 7   VEHICLE_OWNERSHIP    105000 non-null  float64\n",
      " 8   VEHICLE_YEAR         105000 non-null  object \n",
      " 9   MARRIED              105000 non-null  float64\n",
      " 10  CHILDREN             105000 non-null  float64\n",
      " 11  POSTAL_CODE          105000 non-null  int64  \n",
      " 12  ANNUAL_MILEAGE       105000 non-null  float64\n",
      " 13  SPEEDING_VIOLATIONS  105000 non-null  int64  \n",
      " 14  DUIS                 105000 non-null  int64  \n",
      " 15  PAST_ACCIDENTS       105000 non-null  int64  \n",
      " 16  OUTCOME              105000 non-null  float64\n",
      " 17  TYPE_OF_VEHICLE      105000 non-null  object \n",
      "dtypes: float64(6), int64(5), object(7)\n",
      "memory usage: 14.4+ MB\n"
     ]
    }
   ],
   "source": [
    "train.info()"
   ]
  },
  {
   "cell_type": "code",
   "execution_count": 22,
   "id": "pFJan3Ju-tfN",
   "metadata": {
    "id": "pFJan3Ju-tfN"
   },
   "outputs": [],
   "source": [
    "#train = train.drop('ID', axis=1)\n",
    "#test = test.drop('ID', axis=1)"
   ]
  },
  {
   "cell_type": "code",
   "execution_count": 23,
   "id": "STnb7YvCL4RE",
   "metadata": {
    "id": "STnb7YvCL4RE"
   },
   "outputs": [],
   "source": [
    "age_group = {'65+':4, '40-64':3, '26-39':2 ,'16-25':1}\n",
    "de_group = {'30y+':4, '20-29y':3,'10-19y':2,'0-9y':1}\n",
    "edu_group = {'university':3, 'high school':2, 'none':1}\n",
    "income_group = {'upper class':4, 'working class':3,'middle class':2, 'poverty':1}\n",
    "vh_group = {'after 2015':2, 'before 2015':1}"
   ]
  },
  {
   "cell_type": "code",
   "execution_count": 24,
   "id": "bPUdt6haL7rV",
   "metadata": {
    "id": "bPUdt6haL7rV"
   },
   "outputs": [],
   "source": [
    "train['AGE'] = train['AGE'].map(age_group)\n",
    "test['AGE'] = test['AGE'].map(age_group)\n",
    "\n",
    "train['DRIVING_EXPERIENCE'] = train['DRIVING_EXPERIENCE'].map(de_group)\n",
    "test['DRIVING_EXPERIENCE'] = test['DRIVING_EXPERIENCE'].map(de_group)\n",
    "\n",
    "train['EDUCATION'] = train['EDUCATION'].map(edu_group)\n",
    "test['EDUCATION'] = test['EDUCATION'].map(edu_group)\n",
    "\n",
    "train['INCOME'] = train['INCOME'].map(income_group)\n",
    "test['INCOME'] = test['INCOME'].map(income_group)\n",
    "\n",
    "train['VEHICLE_YEAR'] = train['VEHICLE_YEAR'].map(vh_group)\n",
    "test['VEHICLE_YEAR'] = test['VEHICLE_YEAR'].map(vh_group)"
   ]
  },
  {
   "cell_type": "code",
   "execution_count": 25,
   "id": "927f1e3f",
   "metadata": {},
   "outputs": [
    {
     "data": {
      "text/plain": [
       "Index(['GENDER', 'TYPE_OF_VEHICLE'], dtype='object')"
      ]
     },
     "execution_count": 25,
     "metadata": {},
     "output_type": "execute_result"
    }
   ],
   "source": [
    "train.select_dtypes(include='object').columns"
   ]
  },
  {
   "cell_type": "code",
   "execution_count": 26,
   "id": "nDFPzWIBDDoQ",
   "metadata": {
    "id": "nDFPzWIBDDoQ"
   },
   "outputs": [],
   "source": [
    "from sklearn.preprocessing import LabelEncoder\n",
    "lb = LabelEncoder()"
   ]
  },
  {
   "cell_type": "code",
   "execution_count": 27,
   "id": "K5r5WoAXCV4t",
   "metadata": {
    "id": "K5r5WoAXCV4t"
   },
   "outputs": [],
   "source": [
    "for col in train.select_dtypes('O').columns:\n",
    "  train[col] = lb.fit_transform(train[col])\n",
    "  test[col] = lb.fit_transform(test[col])"
   ]
  },
  {
   "cell_type": "markdown",
   "id": "lCR4reVQOItv",
   "metadata": {
    "id": "lCR4reVQOItv"
   },
   "source": [
    "### Feature Engineering"
   ]
  },
  {
   "cell_type": "code",
   "execution_count": 28,
   "id": "fAY-UxEvOIHM",
   "metadata": {
    "id": "fAY-UxEvOIHM"
   },
   "outputs": [],
   "source": [
    "train['pc_count'] = train['POSTAL_CODE'].map(train['POSTAL_CODE'].value_counts().to_dict())\n",
    "test['pc_count'] = test['POSTAL_CODE'].map(test['POSTAL_CODE'].value_counts().to_dict())\n",
    "\n",
    "train['am_count'] = train['ANNUAL_MILEAGE'].map(train['ANNUAL_MILEAGE'].value_counts().to_dict())\n",
    "test['am_count'] = test['ANNUAL_MILEAGE'].map(test['ANNUAL_MILEAGE'].value_counts().to_dict())\n",
    "\n",
    "train['am_bin'] = pd.qcut(train['ANNUAL_MILEAGE'], 5, labels=[0,1,2,3,4]).astype(int)\n",
    "test['am_bin'] = pd.qcut(test['ANNUAL_MILEAGE'], 5, labels=[0,1,2,3,4]).astype(int)"
   ]
  },
  {
   "cell_type": "markdown",
   "id": "Q2WRh-5l-ih3",
   "metadata": {
    "id": "Q2WRh-5l-ih3"
   },
   "source": [
    "## Modelling"
   ]
  },
  {
   "cell_type": "code",
   "execution_count": 29,
   "id": "daa8386d",
   "metadata": {
    "id": "daa8386d"
   },
   "outputs": [],
   "source": [
    "X = train.drop('OUTCOME', axis=1)\n",
    "y = train['OUTCOME']"
   ]
  },
  {
   "cell_type": "code",
   "execution_count": 30,
   "id": "XADhJbld_KLS",
   "metadata": {
    "colab": {
     "base_uri": "https://localhost:8080/"
    },
    "id": "XADhJbld_KLS",
    "outputId": "1e8fee40-0448-4261-da80-0c6351ccd867"
   },
   "outputs": [
    {
     "name": "stdout",
     "output_type": "stream",
     "text": [
      "Learning rate set to 0.094669\n",
      "0:\tlearn: 0.6909057\ttest: 0.6909184\ttest1: 0.6909944\tbest: 0.6909944 (0)\ttotal: 77.2ms\tremaining: 1m 17s\n",
      "100:\tlearn: 0.6749011\ttest: 0.6749779\ttest1: 0.6812569\tbest: 0.6811434 (32)\ttotal: 881ms\tremaining: 7.84s\n",
      "Stopped by overfitting detector  (100 iterations wait)\n",
      "\n",
      "bestTest = 0.6811434463\n",
      "bestIteration = 32\n",
      "\n",
      "Shrink model to first 33 iterations.\n",
      "err:  0.6811434463118324\n",
      "Learning rate set to 0.094669\n",
      "0:\tlearn: 0.6909188\ttest: 0.6909288\ttest1: 0.6909891\tbest: 0.6909891 (0)\ttotal: 8.15ms\tremaining: 8.14s\n",
      "100:\tlearn: 0.6747646\ttest: 0.6748415\ttest1: 0.6813984\tbest: 0.6811606 (25)\ttotal: 816ms\tremaining: 7.26s\n",
      "Stopped by overfitting detector  (100 iterations wait)\n",
      "\n",
      "bestTest = 0.681160619\n",
      "bestIteration = 25\n",
      "\n",
      "Shrink model to first 26 iterations.\n",
      "err:  0.6811606189732459\n",
      "Learning rate set to 0.094669\n",
      "0:\tlearn: 0.6909238\ttest: 0.6909342\ttest1: 0.6909625\tbest: 0.6909625 (0)\ttotal: 6.26ms\tremaining: 6.25s\n",
      "100:\tlearn: 0.6743871\ttest: 0.6744627\ttest1: 0.6815335\tbest: 0.6810467 (29)\ttotal: 804ms\tremaining: 7.15s\n",
      "Stopped by overfitting detector  (100 iterations wait)\n",
      "\n",
      "bestTest = 0.6810467156\n",
      "bestIteration = 29\n",
      "\n",
      "Shrink model to first 30 iterations.\n",
      "err:  0.6810467156198746\n",
      "Learning rate set to 0.094669\n",
      "0:\tlearn: 0.6909486\ttest: 0.6909600\ttest1: 0.6909600\tbest: 0.6909600 (0)\ttotal: 5.91ms\tremaining: 5.9s\n",
      "100:\tlearn: 0.6745418\ttest: 0.6746183\ttest1: 0.6810093\tbest: 0.6809287 (83)\ttotal: 831ms\tremaining: 7.4s\n",
      "Stopped by overfitting detector  (100 iterations wait)\n",
      "\n",
      "bestTest = 0.6809286593\n",
      "bestIteration = 83\n",
      "\n",
      "Shrink model to first 84 iterations.\n",
      "err:  0.6809286592706099\n",
      "Learning rate set to 0.094669\n",
      "0:\tlearn: 0.6909158\ttest: 0.6909253\ttest1: 0.6909738\tbest: 0.6909738 (0)\ttotal: 6.56ms\tremaining: 6.56s\n",
      "100:\tlearn: 0.6744469\ttest: 0.6745221\ttest1: 0.6817799\tbest: 0.6812061 (25)\ttotal: 840ms\tremaining: 7.48s\n",
      "Stopped by overfitting detector  (100 iterations wait)\n",
      "\n",
      "bestTest = 0.6812060951\n",
      "bestIteration = 25\n",
      "\n",
      "Shrink model to first 26 iterations.\n",
      "err:  0.681206095146929\n"
     ]
    }
   ],
   "source": [
    "from sklearn.metrics import log_loss\n",
    "errcb=[]\n",
    "y_pred_totcb=[]\n",
    "from sklearn.model_selection import StratifiedKFold\n",
    "fold=StratifiedKFold(n_splits=5, shuffle=True, random_state=1234)\n",
    "i=1\n",
    "for train_index, test_index in fold.split(X,y):\n",
    "    X_train, X_test = X.iloc[train_index], X.iloc[test_index]\n",
    "    y_train, y_test = y[train_index], y[test_index]\n",
    "    model= CatBoostClassifier(loss_function='Logloss')\n",
    "    model.fit(X_train,y_train,eval_set=[(X_train,y_train),(X_test, y_test)], early_stopping_rounds=100,verbose=100)\n",
    "    preds=model.predict_proba(X_test)[:, 1]\n",
    "    print(\"err: \",log_loss(y_test,preds))\n",
    "    errcb.append(log_loss(y_test,preds))\n",
    "    p = model.predict_proba(test)[:, 1]\n",
    "    y_pred_totcb.append(p)"
   ]
  },
  {
   "cell_type": "code",
   "execution_count": 31,
   "id": "aLQUefTu-IhK",
   "metadata": {
    "colab": {
     "base_uri": "https://localhost:8080/"
    },
    "id": "aLQUefTu-IhK",
    "outputId": "d70cf25c-9eec-4262-cc8e-560e50672619"
   },
   "outputs": [
    {
     "name": "stdout",
     "output_type": "stream",
     "text": [
      "0.6810971070644983\n",
      "9.896812362100656e-05\n"
     ]
    }
   ],
   "source": [
    "print(np.mean(errcb))\n",
    "print(np.std(errcb))"
   ]
  },
  {
   "cell_type": "code",
   "execution_count": 32,
   "id": "UDZkdmWvBx6l",
   "metadata": {
    "colab": {
     "base_uri": "https://localhost:8080/",
     "height": 369
    },
    "id": "UDZkdmWvBx6l",
    "outputId": "95d88ebe-bc1f-4357-a2db-6d189d0fcba4"
   },
   "outputs": [
    {
     "data": {
      "image/png": "[encoded data removed]",
      "text/plain": [
       "<Figure size 1440x720 with 1 Axes>"
      ]
     },
     "metadata": {
      "needs_background": "light"
     },
     "output_type": "display_data"
    }
   ],
   "source": [
    "fea_imp = pd.DataFrame({'imp':model.feature_importances_, 'col': X.columns})\n",
    "fea_imp = fea_imp.sort_values(['imp', 'col'], ascending=[True, False]).iloc[-30:]\n",
    "_ = fea_imp.plot(kind='barh', x='col', y='imp', figsize=(20, 10))   "
   ]
  },
  {
   "cell_type": "code",
   "execution_count": 33,
   "id": "6I1l_iteB2EM",
   "metadata": {
    "id": "6I1l_iteB2EM"
   },
   "outputs": [],
   "source": [
    "prediction = pd.DataFrame(np.mean(y_pred_totcb, 0), columns=['OUTCOME'])"
   ]
  },
  {
   "cell_type": "code",
   "execution_count": 34,
   "id": "8UT86zTwa2eQ",
   "metadata": {
    "colab": {
     "base_uri": "https://localhost:8080/"
    },
    "id": "8UT86zTwa2eQ",
    "outputId": "9168da25-9199-4c6b-85c1-aaece7eed3cd"
   },
   "outputs": [
    {
     "data": {
      "text/plain": [
       "count    45000.000000\n",
       "mean         0.424952\n",
       "std          0.008928\n",
       "min          0.352901\n",
       "25%          0.419199\n",
       "50%          0.424807\n",
       "75%          0.430477\n",
       "max          0.495088\n",
       "Name: OUTCOME, dtype: float64"
      ]
     },
     "execution_count": 34,
     "metadata": {},
     "output_type": "execute_result"
    }
   ],
   "source": [
    "prediction['OUTCOME'].describe()"
   ]
  },
  {
   "cell_type": "code",
   "execution_count": 35,
   "id": "ZIQ4ZeqVbCOr",
   "metadata": {
    "id": "ZIQ4ZeqVbCOr"
   },
   "outputs": [],
   "source": [
    "prediction['OUTCOME'] = prediction['OUTCOME'].round(2)"
   ]
  },
  {
   "cell_type": "code",
   "execution_count": 36,
   "id": "oG64QZqJB9-v",
   "metadata": {
    "id": "oG64QZqJB9-v"
   },
   "outputs": [],
   "source": [
    "prediction.to_csv('final2.csv', index=False)"
   ]
  },
  {
   "cell_type": "markdown",
   "id": "110fbf7b",
   "metadata": {},
   "source": [
    "### Model interpretability using shapely values"
   ]
  },
  {
   "cell_type": "code",
   "execution_count": 37,
   "id": "6b42ea2e",
   "metadata": {},
   "outputs": [],
   "source": [
    "import shap"
   ]
  },
  {
   "cell_type": "code",
   "execution_count": 38,
   "id": "8a4c86a3",
   "metadata": {},
   "outputs": [],
   "source": [
    "# explain the model's predictions using SHAP\n",
    "explainer = shap.TreeExplainer(model)\n",
    "shap_values = explainer.shap_values(test)"
   ]
  },
  {
   "cell_type": "markdown",
   "id": "5737be0a",
   "metadata": {},
   "source": [
    "### Bar-plot of the model"
   ]
  },
  {
   "cell_type": "code",
   "execution_count": 39,
   "id": "c3e7688d",
   "metadata": {},
   "outputs": [
    {
     "data": {
      "image/png": "[encoded data removed]",
      "text/plain": [
       "<Figure size 576x684 with 1 Axes>"
      ]
     },
     "metadata": {
      "needs_background": "light"
     },
     "output_type": "display_data"
    }
   ],
   "source": [
    "shap_values = shap.TreeExplainer(model).shap_values(test)\n",
    "shap.summary_plot(shap_values, test, plot_type=\"bar\")"
   ]
  },
  {
   "cell_type": "markdown",
   "id": "61bff5e8",
   "metadata": {},
   "source": [
    "The shapely values picks the following features as the Top 5\n",
    "\n",
    "* Driving Experience changing the prediction of the outcome on average of 3%\n",
    "\n",
    "* Gender changing the prediction of the outcome on average of 1.3%\n",
    "\n",
    "* Type of Vehicle changing the prediction of the outcome on average of 1.2\n",
    "\n",
    "* ID changing the prediction of the outcome on average of 1%\n",
    "\n",
    "* Annunal mileage bin changing the prediction of the outcome on average of 1%"
   ]
  },
  {
   "cell_type": "code",
   "execution_count": 40,
   "id": "086f7423",
   "metadata": {},
   "outputs": [
    {
     "data": {
      "image/png": "[encoded data removed]",
      "text/plain": [
       "<Figure size 576x684 with 2 Axes>"
      ]
     },
     "metadata": {
      "needs_background": "light"
     },
     "output_type": "display_data"
    }
   ],
   "source": [
    "shap.summary_plot(shap_values, test)"
   ]
  },
  {
   "cell_type": "markdown",
   "id": "3f8a4879",
   "metadata": {},
   "source": [
    "**Making a decision**\n",
    "\n",
    "* A higher level of driving experience indicates that the claim must be accepted.\n",
    "\n",
    "* When a Gender is female, it indicates that the claim is accepted; when it is male, it indicates that the claim is rejected. (The gender bias in algorithms must be addressed.)\n",
    "\n",
    "* Those claiming less annual mileage must be accepted."
   ]
  },
  {
   "cell_type": "code",
   "execution_count": null,
   "id": "eade5d45",
   "metadata": {},
   "outputs": [],
   "source": []
  }
 ],
 "metadata": {
  "colab": {
   "collapsed_sections": [],
   "provenance": []
  },
  "kernelspec": {
   "display_name": "Python 3 (ipykernel)",
   "language": "python",
   "name": "python3"
  },
  "language_info": {
   "codemirror_mode": {
    "name": "ipython",
    "version": 3
   },
   "file_extension": ".py",
   "mimetype": "text/x-python",
   "name": "python",
   "nbconvert_exporter": "python",
   "pygments_lexer": "ipython3",
   "version": "3.9.12"
  }
 },
 "nbformat": 4,
 "nbformat_minor": 5
}
